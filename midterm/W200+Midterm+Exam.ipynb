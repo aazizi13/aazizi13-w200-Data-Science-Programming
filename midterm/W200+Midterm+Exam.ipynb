{
 "cells": [
  {
   "cell_type": "markdown",
   "metadata": {},
   "source": [
    "## MIDTERM - W200 Introduction to Data Science Programming, UC Berkeley MIDS"
   ]
  },
  {
   "cell_type": "markdown",
   "metadata": {},
   "source": [
    "## Instructions\n",
    "The midterm exam is designed to evaluate your grasp of Python theory as well as Python coding.\n",
    "\n",
    "- This is an individual open book exam.\n",
    "- You have 48 hours to complete the exam and upload it back to ISVC, starting from the point when you first accessed it on ISVC.\n",
    "- You may use any libraries from the Python Standard Library for this exam: https://docs.python.org/3/library/\n",
    "\n",
    "For the coding questions, follow best practices.  Partial credit may be given for submissions that are clearly commented and well organized."
   ]
  },
  {
   "cell_type": "markdown",
   "metadata": {},
   "source": [
    "# 1. Short Questions (15 pts)\n",
    "\n",
    "1.1. Python's dynamic typing allows one variable to refer to multiple types of objects within the same program execution.  This can speed program development.  Name one disadvantage of dynamic typing."
   ]
  },
  {
   "cell_type": "markdown",
   "metadata": {
    "collapsed": true
   },
   "source": [
    "In dynamically typed languages the variable type is not declared and the type of a variable is identified at run-time. One disadvantage of this type of language is type errors and therefore, they are not type-safe. Furthermore, they may also have less optimized code as opposed to a statically typed language."
   ]
  },
  {
   "cell_type": "markdown",
   "metadata": {},
   "source": [
    "1.2. Compiled languages typically offer faster performance than interpreted languages. List two reasons why would you choose an interpreted language like Python for the purpose of analyzing a data set instead of a compiled language."
   ]
  },
  {
   "cell_type": "markdown",
   "metadata": {
    "collapsed": true
   },
   "source": [
    "-An interpreted language like python has a lot of quick and convenient packages making it an ideal language to perform data analysis.\n",
    "\n",
    "-Python is also an object-oriented language which makes it very flexible for data analysis. \n",
    "\n",
    "-Interpreted languages work across platforms and are much easier to manipulate and debug making them ideal for data manipulation and analysis."
   ]
  },
  {
   "cell_type": "markdown",
   "metadata": {},
   "source": [
    "1.3. We have gone over FOR and WHILE loops.  Discuss one reason to use a for loop over a while loop and one reason to use a while loop over a for loop. Please elaborate beyond a single word."
   ]
  },
  {
   "cell_type": "markdown",
   "metadata": {
    "collapsed": true
   },
   "source": [
    "-If we want to iterate through a collection or iterable objects, we should use a for loop. In other words, if we want to loop through definite iterations, we can simply use for loop\n",
    "\n",
    "-If we want to loop until a condition is false, we can use a while loop. In other words, if we want to loop for an unknown number of times, then a while loop is used. \n",
    "\n",
    "Both are powerful ways of looping, it depends on the situation."
   ]
  },
  {
   "cell_type": "markdown",
   "metadata": {},
   "source": [
    "# 2. Programming Styles (10 pts)\n",
    "\n",
    "We have taught you a number of ways to program in Python. These have included using scripts versus functions and using Jupyter notebooks versus calling .py files from the command line. Describe a scenario in which you would use .py files from the command line over a Jupyter notebook and the opposite. Describe a scenario in which you would use a script versus a function and the opposite.  There are four cases and each answer should be about 1-2 sentences, explain why!"
   ]
  },
  {
   "cell_type": "markdown",
   "metadata": {},
   "source": [
    "2.1. I would use a Jupyter notebook:"
   ]
  },
  {
   "cell_type": "markdown",
   "metadata": {},
   "source": [
    "I would use a Jupyter notebook for fast and easy line-to-line code executions. I can use Jupyter notebook to easily interact with data and code. It is incredibly easy to share with other people and very powerful for visualization. Jupyter notebook also supports multiple languages."
   ]
  },
  {
   "cell_type": "markdown",
   "metadata": {},
   "source": [
    "2.2. I would use .py files over a Jupyter notebook:"
   ]
  },
  {
   "cell_type": "markdown",
   "metadata": {},
   "source": [
    "I would use .py files over Jupyter notebook if I want to develop a full script for a program. I might use Jupyter notebook to develop specific parts and to check for errors, but when I want to compile my entire program, I would compile it as a script in .py files.\n"
   ]
  },
  {
   "cell_type": "markdown",
   "metadata": {},
   "source": [
    "2.3. I would use a script over a function:"
   ]
  },
  {
   "cell_type": "markdown",
   "metadata": {},
   "source": [
    "I would use a script over a function if I am not recalling my script over and over again. In other words, If I want to run my program as a whole I would use a script.\n"
   ]
  },
  {
   "cell_type": "markdown",
   "metadata": {},
   "source": [
    "2.4. I would use a function over a script:"
   ]
  },
  {
   "cell_type": "markdown",
   "metadata": {},
   "source": [
    "I would use a function over a script if I am recalling the function over and over again. For example, If I am calculating my monthly budget, I might have a function where it calculates my food expenditure. This function would be recalled over and over again every time I add new information about my food expenditure. In this case, a function is much more efficient."
   ]
  },
  {
   "cell_type": "markdown",
   "metadata": {},
   "source": [
    "# 3. Dictionaries vs Lists (10 pts)\n",
    "\n",
    "Suppose we have the following problem.  We have a dictionary of names and ages and we would like to find the oldest person.\n",
    "\n",
    "```\n",
    "ages_dict = {'Bill':34, 'Fred':45, 'Alice':14, 'Betty':17}\n",
    "```"
   ]
  },
  {
   "cell_type": "markdown",
   "metadata": {},
   "source": [
    "### Dictionary approach\n",
    "Here is a loop that shows how to iterate through the dictionary:"
   ]
  },
  {
   "cell_type": "code",
   "execution_count": 3,
   "metadata": {},
   "outputs": [
    {
     "name": "stdout",
     "output_type": "stream",
     "text": [
      "Fred is the oldest.\n"
     ]
    }
   ],
   "source": [
    "ages_dict = {'Bill':34, 'Fred':45, 'Alice':14, 'Betty':17}\n",
    "\n",
    "max_age = 0\n",
    "max_name = ''\n",
    "for name,age in ages_dict.items():\n",
    "    if age > max_age:\n",
    "        max_age = age\n",
    "        max_name = name\n",
    "        \n",
    "print(max_name, \"is the oldest.\")    "
   ]
  },
  {
   "cell_type": "markdown",
   "metadata": {},
   "source": [
    "### List approach \n",
    "\n",
    "Your friend comes to you and thinks that this dictionary is difficult to deal with and instead offers a different plan using two lists.\n",
    "\n",
    "```\n",
    "names = ['Bill', 'Fred', 'Alice', 'Betty']\n",
    "ages = [34, 45, 14, 17]\n",
    "```"
   ]
  },
  {
   "cell_type": "markdown",
   "metadata": {},
   "source": [
    "Instead of using a loop, your friend writes this code to find the oldest person."
   ]
  },
  {
   "cell_type": "code",
   "execution_count": 4,
   "metadata": {},
   "outputs": [
    {
     "name": "stdout",
     "output_type": "stream",
     "text": [
      "Fred is the oldest.\n"
     ]
    }
   ],
   "source": [
    "names = ['Bill', 'Fred', 'Alice', 'Betty']\n",
    "ages = [34, 45, 14, 17]\n",
    "\n",
    "max_age = max(ages)\n",
    "index_max = ages.index(max_age)\n",
    "max_name = names[index_max]\n",
    "\n",
    "print(max_name, 'is the oldest.')"
   ]
  },
  {
   "cell_type": "markdown",
   "metadata": {},
   "source": [
    "### Discussion\n",
    "Discuss the advantages and disadvantages of each of the approaches.  \n",
    "\n",
    "3.1. Is one more efficient (i.e. faster in Big O notation) than the other?"
   ]
  },
  {
   "cell_type": "markdown",
   "metadata": {},
   "source": [
    "In our example, the list approach is more efficient than the dictionary approach. I used magic function timeit and the execution time of the list approach was faster than the dictionary approach. In terms of Big(O) notations both approaches are linear O(n)."
   ]
  },
  {
   "cell_type": "markdown",
   "metadata": {},
   "source": [
    "3.2. Why would you prefer the dictionary?"
   ]
  },
  {
   "cell_type": "markdown",
   "metadata": {},
   "source": [
    "I would prefer the dictionary approach over the list approach because the data is much more cleaner to read. If my data is in a dictionary form, I can easily access the age of a person through keys with a corresponding values in age. There are no iterations needed in that case and simple built-in python functions would do the trick. My execution time would be faster in this case. Also if you use two list, it might be easier to mess up your data since each value in one list has to correspond to its correct value in the other list. "
   ]
  },
  {
   "cell_type": "markdown",
   "metadata": {},
   "source": [
    "3.3. Why would you prefer the two lists?"
   ]
  },
  {
   "cell_type": "markdown",
   "metadata": {},
   "source": [
    "I would prefer lists over dictionaries if I am trying to sort my data in some way. Since dictionaries are orderless, in this case, it would be preferable to use two lists. This way the execution time of our script would be much faster. Furthermore, dictionaries might take more space compared to lists."
   ]
  },
  {
   "cell_type": "markdown",
   "metadata": {},
   "source": [
    "# 4. Mutability Surprises (15 pts)\n",
    "\n",
    "4.1. In the asynchronous sessions, we discussed mutability. Please describe, in your own words, why mutability is a useful feature in Python lists and dictionaries."
   ]
  },
  {
   "cell_type": "markdown",
   "metadata": {},
   "source": [
    "Mutability is a useful feature in python because it allows changing data in lists and dictionaries. For example, you can change the size of an object. This feature is incredibly powerful for data manipulation because data can be changed at will."
   ]
  },
  {
   "cell_type": "markdown",
   "metadata": {},
   "source": [
    "Mutability can also lead to unexpected behavior - specifically when multiple variables point to the same object or when mutable objects are nested inside each other. \n",
    "\n",
    "4.2. Please write some code demonstrating a situation where mutability could lead to unexpected behavior. Specifically, show how updating just one object (list_a) can change the value when you print a second variable (list_b)."
   ]
  },
  {
   "cell_type": "code",
   "execution_count": 1,
   "metadata": {},
   "outputs": [
    {
     "name": "stdout",
     "output_type": "stream",
     "text": [
      "List_a:  [1, 2, 4, 5, 6, 7, 8, 9, 10, 100]\n",
      "List_b:  [1, 2, 4, 5, 6, 7, 8, 9, 10, 100]\n"
     ]
    }
   ],
   "source": [
    "# Your code here\n",
    "list_a = [1,2,4,5,6,7,8,9,10]\n",
    "list_b = list_a \n",
    "list_a.append(100)\n",
    "print(\"List_a: \", list_a)\n",
    "print(\"List_b: \", list_b)\n",
    "\n",
    "# We can see that list_b would also change if we run the code. "
   ]
  },
  {
   "cell_type": "markdown",
   "metadata": {},
   "source": [
    "4.3. Show how \"copy\" or \"deepcopy\" could be used to prevent the unexpected problem you described, above."
   ]
  },
  {
   "cell_type": "code",
   "execution_count": 2,
   "metadata": {},
   "outputs": [
    {
     "name": "stdout",
     "output_type": "stream",
     "text": [
      "List_a:  [1, 2, 4, 5, 6, 7, 8, 9, 10, 100]\n",
      "List_b:  [1, 2, 4, 5, 6, 7, 8, 9, 10]\n"
     ]
    }
   ],
   "source": [
    "# Your code here\n",
    "import copy \n",
    "list_a = [1,2,4,5,6,7,8,9,10]\n",
    "list_b =copy.deepcopy(list_a) \n",
    "list_a.append(100)\n",
    "print(\"List_a: \", list_a)\n",
    "print(\"List_b: \", list_b)\n",
    "\n",
    "# We can avoid the above situation by using copy.deepcopy () function\n"
   ]
  },
  {
   "cell_type": "markdown",
   "metadata": {},
   "source": [
    "4.4. Now, show the same problem using two dictionaries. Again show how \"copy\" or \"deepcopy\" can fix the issue."
   ]
  },
  {
   "cell_type": "code",
   "execution_count": 3,
   "metadata": {},
   "outputs": [
    {
     "name": "stdout",
     "output_type": "stream",
     "text": [
      "Dict_alpha:  {'a': '100', 'b': 2, 'c': 3}\n",
      "Dict_beta:   {'a': '100', 'b': 2, 'c': 3}\n",
      "\n",
      "Dict_alpha:  {'a': '100', 'b': 2, 'c': 3}\n",
      "Dict_beta:   {'a': 1, 'b': 2, 'c': 3}\n"
     ]
    }
   ],
   "source": [
    "# Your code here\n",
    "\n",
    "# Scenario 1\n",
    "\n",
    "dict_alpha = {\"a\": 1, \"b\": 2, \"c\": 3}\n",
    "dict_beta = dict_alpha\n",
    "\n",
    "dict_alpha[\"a\"] = \"100\"\n",
    "\n",
    "print(\"Dict_alpha: \", dict_alpha)\n",
    "print(\"Dict_beta:  \", dict_beta)\n",
    "print()\n",
    "\n",
    "\n",
    "# Scenario 2\n",
    "\n",
    "dict_alpha = {\"a\": 1, \"b\": 2, \"c\": 3}\n",
    "dict_beta = copy.deepcopy(dict_alpha)\n",
    "\n",
    "dict_alpha[\"a\"] = \"100\"\n",
    "\n",
    "print(\"Dict_alpha: \", dict_alpha)\n",
    "print(\"Dict_beta:  \", dict_beta)\n",
    "\n",
    "\n",
    "# We can see that in scenario 2 after using the function copy.deepcopy(),\n",
    "#we were able to only change Dict_alpha without changing dict_beta"
   ]
  },
  {
   "cell_type": "markdown",
   "metadata": {},
   "source": [
    "4.5. Can this unexpected behavior problem occur with tuples? Why, or why not?"
   ]
  },
  {
   "cell_type": "markdown",
   "metadata": {},
   "source": [
    "We don't expect this to happen in tuples. Once you create a tuple, you cannot change its values, because tuples are immutable. "
   ]
  },
  {
   "cell_type": "markdown",
   "metadata": {},
   "source": [
    "# 5. Tweet Analysis (15 pts)\n",
    "\n",
    "A tweet is a string that is between 1 and 280 characters long (inclusive). A username is a string of letters and/or digits that is between 1 and 14 characters long (inclusive). A username is mentioned in a tweet by including @username in the tweet (notice the username does not include the `@` symbol). A retweet is way to share another user's tweet, and can be identified by the string RT, followed by the original username who tweeted it.\n",
    "\n",
    "Your job is to fill in the function *count_retweets_by_username* so that it **returns** a frequency dictionary that indicates how many times each retweeted username was retweeted."
   ]
  },
  {
   "cell_type": "code",
   "execution_count": 1,
   "metadata": {
    "collapsed": true
   },
   "outputs": [],
   "source": [
    "tweets = [\"This is great! RT @fakeuser: Can you believe this?\",\n",
    "         \"It's the refs! RT @dubsfan: Boo the refs and stuff wargarbal\",\n",
    "         \"That's right RT @ladodgers: The dodgers are destined to win the west!\",\n",
    "         \"RT @sportball: That sporting event was not cool\",\n",
    "         \"This is just a tweet about things @person, how could you\",\n",
    "         \"RT @ladodgers: The season is looking great!\",\n",
    "         \"RT @dubsfan: I can't believe it!\",\n",
    "         \"I can't believe it either! RT @dubsfan: I can't believe it\"]"
   ]
  },
  {
   "cell_type": "code",
   "execution_count": 4,
   "metadata": {},
   "outputs": [],
   "source": [
    "def count_retweets_by_username(tweet_list):\n",
    "    \"\"\" (list of tweets) -> dict of {username: int}\n",
    "    Returns a dictionary in which each key is a username that was \n",
    "    retweeted in tweet_list and each value is the total number of times this \n",
    "    username was retweeted.\n",
    "    \"\"\"\n",
    "    \n",
    "    user_names = []\n",
    "    \n",
    "    for tweet in tweet_list:\n",
    "        for i in tweet.split():\n",
    "            if i.startswith(\"@\") and i.endswith(\":\"):\n",
    "                user_names.append(i.replace(\"@\",\"\").replace(\":\",\"\"))\n",
    "                \n",
    "                \n",
    "    user_name_dict = {}\n",
    "    \n",
    "    for u in user_names:\n",
    "        if u in user_name_dict:\n",
    "            user_name_dict[u] += 1\n",
    "        else:\n",
    "            user_name_dict[u] = 1\n",
    "  \n",
    "  \n",
    "    return user_name_dict\n",
    "\n",
    "tweets = [\"This is great! RT @fakeuser: Can you believe this?\",\n",
    "         \"It's the refs! RT @dubsfan: Boo the refs and stuff wargarbal\",\n",
    "         \"That's right RT @ladodgers: The dodgers are destined to win the west!\",\n",
    "         \"RT @sportball: That sporting event was not cool\",\n",
    "         \"This is just a tweet about things @person, how could you\",\n",
    "         \"RT @ladodgers: The season is looking great!\",\n",
    "         \"RT @dubsfan: I can't believe it!\",\n",
    "         \"I can't believe it either! RT @dubsfan: I can't believe it\"]\n"
   ]
  },
  {
   "cell_type": "code",
   "execution_count": 5,
   "metadata": {},
   "outputs": [
    {
     "name": "stdout",
     "output_type": "stream",
     "text": [
      "{'fakeuser': 1, 'dubsfan': 3, 'ladodgers': 2, 'sportball': 1}\n"
     ]
    }
   ],
   "source": [
    "# allow this code to work by implementing count_retweets_by_username function above\n",
    "print(count_retweets_by_username(tweets))"
   ]
  },
  {
   "cell_type": "markdown",
   "metadata": {},
   "source": [
    "# 6. Looking for Minerals (20 pts)\n",
    "\n",
    "A mining company conducts a survey of an n-by-n square grid of land.  Each row of land is numbered from 0 to n-1 where 0 is the top and n-1 is the bottom, and each column is also numbered from 0 to n-1 where 0 is the left and n-1 is the right.  The company wishes to record which squares of this grid contain mineral deposits.\n",
    "\n",
    "The company decides to use a list of tuples to store the location of each deposit.  The first item in each tuple is the row of the deposit.  The second item is the column.  The third item is a non-negative number representing the size of the deposit, in tons.  For example, the following code defines a sample representation of a set of deposits in an 8-by-8 grid."
   ]
  },
  {
   "cell_type": "code",
   "execution_count": 7,
   "metadata": {},
   "outputs": [],
   "source": [
    "deposits = [(0, 4, .3), (6, 2, 3), (3, 7, 2.2), (5, 5, .5), (3, 5, .8), (7, 7, .3)]"
   ]
  },
  {
   "cell_type": "markdown",
   "metadata": {},
   "source": [
    "6.1. Given a list of deposits like the one above, write a function to create a string representation for a rectangular sub-region of the land.  Your function should take a list of deposits, then a set of parameters denoting the top, bottom, left, and right edges of the sub-grid.  It should **return** (do not print in the function) a multi-line string in which grid squares without deposits are represented by \"-\" and grid squares with a deposit are represented by \"X\"."
   ]
  },
  {
   "cell_type": "code",
   "execution_count": 8,
   "metadata": {},
   "outputs": [
    {
     "name": "stdout",
     "output_type": "stream",
     "text": [
      "----X---\n",
      "--------\n",
      "--------\n",
      "-----X-X\n",
      "--------\n",
      "-----X--\n",
      "--X-----\n",
      "-------X\n",
      "\n",
      "X--\n",
      "---\n",
      "--X\n"
     ]
    }
   ],
   "source": [
    "def display(deposits, top, bottom, left, right):\n",
    "    \"\"\"display a subgrid of the land, with rows starting at top and up to \n",
    "    but not including bottom, and columns starting at left and up to but\n",
    "    not including right.\"\"\"\n",
    "    \n",
    "    ans = \"\"\n",
    "    \n",
    "    for i in range(top, bottom):\n",
    "        \n",
    "        for j in range(left, right):\n",
    "            flag = False\n",
    "            \n",
    "            for k in range(0, len(deposits)):\n",
    "                \n",
    "                if deposits[k][0] == i and deposits[k][1] == j:\n",
    "                    ans = ans + \"X\"\n",
    "                    flag = True\n",
    "                    break\n",
    "\n",
    "            if flag == False:\n",
    "                ans = ans + \"-\"\n",
    "\n",
    "        if i != bottom-1:\n",
    "            ans = ans + \"\\n\"\n",
    "    \n",
    "    return ans\n",
    "\n",
    "print(display(deposits, 0, 8, 0, 8))\n",
    "print()\n",
    "print(display(deposits, 5, 8, 5, 8))"
   ]
  },
  {
   "cell_type": "markdown",
   "metadata": {},
   "source": [
    "For example, your function should replicate the following behavior for the example grid:\n",
    "```\n",
    "print(display(deposits, 0, 8, 0, 8))\n",
    "----X---\n",
    "--------\n",
    "--------\n",
    "-----X-X\n",
    "--------\n",
    "-----X--\n",
    "--X-----\n",
    "-------X\n",
    "\n",
    "print(display(deposits, 5, 8, 5, 8))\n",
    "X--\n",
    "---\n",
    "--X\n",
    "\n",
    "```\n"
   ]
  },
  {
   "cell_type": "markdown",
   "metadata": {},
   "source": [
    "6.2. Next, complete the following function to compute the total number of tons in a rectangular sub-region of the grid."
   ]
  },
  {
   "cell_type": "code",
   "execution_count": 9,
   "metadata": {},
   "outputs": [
    {
     "name": "stdout",
     "output_type": "stream",
     "text": [
      "Total tons of deposit in a rectangular sub-region of the grid: 7.1\n"
     ]
    }
   ],
   "source": [
    "def tons_inside(deposits, top, bottom, left, right):\n",
    "    \"\"\"Returns the total number of tons of deposits for which the row is at least top,\n",
    "    but strictly less than bottom, and the column is at least left, but strictly\n",
    "    less than right.\"\"\"\n",
    "    # Do not alter the function header.  \n",
    "    # Just fill in the code so it returns the correct number of tons.\n",
    "    \n",
    "    total_tons = 0.0\n",
    "\n",
    "    for i in range(top, bottom):\n",
    "        for j in range(left, right):\n",
    "            for k in range(0, len(deposits)):\n",
    "\n",
    "                if deposits[k][0] == i and deposits[k][1] == j:\n",
    "                    total_tons = total_tons + deposits[k][2];\n",
    "                    break\n",
    "\n",
    "    return float(format(total_tons,\".5f\").rstrip('0'))\n",
    "\n",
    "print(\"Total tons of deposit in a rectangular sub-region of the grid: \"+str(tons_inside(deposits, 0, 8, 0, 8)));\n",
    "\n",
    "    "
   ]
  },
  {
   "cell_type": "markdown",
   "metadata": {
    "collapsed": true
   },
   "source": [
    "## 7. Birthday planning (15 pts)\n",
    "\n",
    "Suppose you record a list of birthdays for your classmates, recorded as month day tuples.  An example is given below."
   ]
  },
  {
   "cell_type": "code",
   "execution_count": 10,
   "metadata": {},
   "outputs": [],
   "source": [
    "# The 2nd to last tuple needs the int(2) in it so that it is uniquely stored in memory compared to (2,8)\n",
    "# Under the hood Python 3.7 changed how these are stored so (2,8) and (2,8) are stored in the same location\n",
    "# and then the algorithm below doesn't work\n",
    "\n",
    "dates = [(3,14),(2,8),(10,25),(5,17),(3,2),(7,25),(4,30),(8,7),(int(2),8),(1,22)]"
   ]
  },
  {
   "cell_type": "markdown",
   "metadata": {},
   "source": [
    "You read about the famous birthday problem and you become interested in the number of pairs of classmates that share the same birthday.  Below is an algorithm you write to do this. (Note: the ```is``` operator tests that two operands point to the same object)"
   ]
  },
  {
   "cell_type": "code",
   "execution_count": 11,
   "metadata": {},
   "outputs": [
    {
     "name": "stdout",
     "output_type": "stream",
     "text": [
      "Total birthday pairs: 1\n"
     ]
    }
   ],
   "source": [
    "count = 0\n",
    "\n",
    "for person_a in dates:\n",
    "    for person_b in dates:\n",
    "        # Make sure we have different people        \n",
    "        \n",
    "        if person_a is person_b:\n",
    "            continue\n",
    "            \n",
    "        # Check both month and day\n",
    "        if person_a[0] == person_b[0] and person_a[1] == person_b[1]:\n",
    "            count += 1\n",
    "            \n",
    "# We counted each pair twice (e.g. jane-bob and bob-jane) so divide by 2:\n",
    "print(\"Total birthday pairs:\", count//2)"
   ]
  },
  {
   "cell_type": "markdown",
   "metadata": {},
   "source": [
    "7.1. What is the (tightest) Big-O running time bound for the above algorithm?  You may assume that simple operations like equality check, addition, and print take constant time."
   ]
  },
  {
   "cell_type": "markdown",
   "metadata": {
    "collapsed": true
   },
   "source": [
    "The Big-O running time for this algorithm is O(N^2) because there is a loop within a loop. In other words, for every person we are checking another perosn. "
   ]
  },
  {
   "cell_type": "markdown",
   "metadata": {},
   "source": [
    "7.2. You notice that your algorithm is inefficient in that it counts each pair twice.  For example, it will increment count once when person_a is Jane and person_b is Bob, and again when person_a is Bob and person_b is Jane.  Below, revise the algorithm so that it only looks at each pair once."
   ]
  },
  {
   "cell_type": "code",
   "execution_count": 12,
   "metadata": {},
   "outputs": [
    {
     "name": "stdout",
     "output_type": "stream",
     "text": [
      "Total birthday pairs: 1\n"
     ]
    }
   ],
   "source": [
    "# Your code here\n",
    "\n",
    "count = 0\n",
    "dates = [(3,14),(2,8),(10,25),(5,17),(3,2),\n",
    "         (7,25),(4,30),(8,7),(int(2),8),(1,22)]\n",
    "\n",
    "# we take the lenght of our list and look at x in the range for person_a\n",
    "# and then we look at x+1 in the range for person_b to avoid counting \n",
    "#the same person twice.\n",
    "\n",
    "length = len(dates)\n",
    "\n",
    "for x in range(length):\n",
    "    for y in range(x+1, length):\n",
    "        person_a = dates[x]\n",
    "        person_b = dates[y]\n",
    "        \n",
    "        if person_a is person_b:\n",
    "            continue \n",
    "            \n",
    "        if person_a[0] == person_b[0] and person_a[1] == person_b[1]:\n",
    "            count += 1\n",
    "\n",
    "print(\"Total birthday pairs:\", count)"
   ]
  },
  {
   "cell_type": "markdown",
   "metadata": {},
   "source": [
    "7.3. What is the (tightest) Big-O running time bound for your new algorithm?  What does this tell you about whether your revision was worth making?"
   ]
  },
  {
   "cell_type": "markdown",
   "metadata": {},
   "source": [
    "The Big-O running time for the revised algorithm would be O(N^2) as well with the same logic as above. As for revising our algorithm, it may have not saved us much time with such a small data list. However, if our data list were much bigger, it would have made our execution time a little faster. "
   ]
  },
  {
   "cell_type": "markdown",
   "metadata": {},
   "source": [
    "7.4. Finally, create a third revision of your algorithm which has a faster Big-O running time bound that both the previous algorithms."
   ]
  },
  {
   "cell_type": "code",
   "execution_count": 13,
   "metadata": {},
   "outputs": [
    {
     "name": "stdout",
     "output_type": "stream",
     "text": [
      "Total birthday pairs: 1\n"
     ]
    }
   ],
   "source": [
    "# Your code here\n",
    "\n",
    "dates = [(3,14),(2,8),(10,25),(5,17),(3,2),\n",
    "         (7,25),(4,30),(8,7),(int(2),8),(1,22)]\n",
    "\n",
    "# sorting the data\n",
    "dates.sort()\n",
    "count = 0\n",
    "x = 0\n",
    "\n",
    "# counting the length of data list. \n",
    "length = len(dates)\n",
    "\n",
    "# using a while loop.\n",
    "#assigning x to y\n",
    "#introducing a new variable \"repeats\" and setting it to zero\n",
    "while x < length:\n",
    "    y = x\n",
    "    repeats = 0\n",
    "    \n",
    "    #using another while loop to look for same birthdays.\n",
    "    #adding 1 to repeats. \n",
    "    while x < length and dates[x][0] == dates[y][0] and dates[x][1]== dates[y][1]:\n",
    "        repeats +=1\n",
    "        x+=1\n",
    "    #if there are no repeats, the below formula will not add anything to count\n",
    "    #if there are repeats, the below formula will add to count. \n",
    "    count += repeats*(repeats-1)//2\n",
    "\n",
    "# We counted each pair once \n",
    "print(\"Total birthday pairs:\", count)"
   ]
  },
  {
   "cell_type": "markdown",
   "metadata": {},
   "source": [
    "7.5. What is the (tightest) Big-O running time bound for your last algorithm?  Explain what trade-off you made to have a faster running time."
   ]
  },
  {
   "cell_type": "markdown",
   "metadata": {
    "collapsed": true
   },
   "source": [
    "The Big-O running time of our above algorithm above is O(NlogN). It is not linear but quasilinear since it has a time complexity to sort out our data list. The trade-off we introduced was that it made our code a bit more complex and long. "
   ]
  },
  {
   "cell_type": "code",
   "execution_count": null,
   "metadata": {},
   "outputs": [],
   "source": []
  }
 ],
 "metadata": {
  "kernelspec": {
   "display_name": "Python 3",
   "language": "python",
   "name": "python3"
  },
  "language_info": {
   "codemirror_mode": {
    "name": "ipython",
    "version": 3
   },
   "file_extension": ".py",
   "mimetype": "text/x-python",
   "name": "python",
   "nbconvert_exporter": "python",
   "pygments_lexer": "ipython3",
   "version": "3.8.10"
  },
  "widgets": {
   "state": {},
   "version": "1.1.2"
  }
 },
 "nbformat": 4,
 "nbformat_minor": 1
}
