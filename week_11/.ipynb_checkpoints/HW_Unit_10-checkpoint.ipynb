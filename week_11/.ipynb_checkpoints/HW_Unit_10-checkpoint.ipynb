{
 "cells": [
  {
   "cell_type": "markdown",
   "metadata": {
    "deletable": false,
    "editable": false,
    "nbgrader": {
     "cell_type": "markdown",
     "checksum": "00b675f80cec0b02f01b07feeb88813b",
     "grade": false,
     "grade_id": "cell-4cc0ffd6a5810c6d",
     "locked": true,
     "schema_version": 3,
     "solution": false
    }
   },
   "source": [
    "## Unit 10 Assignment - W200 Introduction to Data Science Programming, UC Berkeley MIDS\n",
    "\n",
    "Write code in this Jupyter Notebook to solve the following problems. Please upload this **Notebook** with your solutions to your GitHub repository in your SUBMISSIONS/week_11 folder by 11:59PM PST the night before class. Do not push the data files to your repo."
   ]
  },
  {
   "cell_type": "markdown",
   "metadata": {
    "deletable": false,
    "editable": false,
    "nbgrader": {
     "cell_type": "markdown",
     "checksum": "a92fc4676cda916f921341132ae88dfb",
     "grade": false,
     "grade_id": "cell-1f3ffd327d56ecbc",
     "locked": true,
     "schema_version": 3,
     "solution": false
    }
   },
   "source": [
    "This homework assignment is Week 11 which corresponds to the Unit #10 and a small part of Unit #11 async. "
   ]
  },
  {
   "cell_type": "markdown",
   "metadata": {
    "deletable": false,
    "editable": false,
    "nbgrader": {
     "cell_type": "markdown",
     "checksum": "9024dc80ab22e33198f91320d65a593a",
     "grade": false,
     "grade_id": "cell-c398835a920065f4",
     "locked": true,
     "schema_version": 3,
     "solution": false
    }
   },
   "source": [
    "## Objectives\n",
    "- Demonstrate use of map and filter commands\n",
    "- Practice list comprehensions and lambda functions\n",
    "- Understand different ways to manipulate and perform calculations on Numpy arrays including:\n",
    "-   Changing datatypes, getting the max values in each column and row, calculating the mean of a matrix\n",
    "-   Matrix value comparisons and slicing of values\n",
    "- Load a file into a pandas dataframe and demonstrate some filtering"
   ]
  },
  {
   "cell_type": "markdown",
   "metadata": {
    "deletable": false,
    "editable": false,
    "nbgrader": {
     "cell_type": "markdown",
     "checksum": "8567ea813027ec2494a660c445e4a9f9",
     "grade": false,
     "grade_id": "cell-bc58b3da65c5de3c",
     "locked": true,
     "schema_version": 3,
     "solution": false
    }
   },
   "source": [
    "## General Guidelines:\n",
    "\n",
    "- All calculations need to be done in the functions (that includes any formatting of the output)\n",
    "- Name your functions exactly as written in the problem statement\n",
    "- Please have your functions return the answer rather than printing it inside the function\n",
    "- Do not make a separate input() statement.  The functions will be passed the input as shown in the examples\n",
    "- The examples given are samples of how we will test/grade your code. Please ensure your functions output the same information\n",
    "- Answer format is graded - please match the examples\n",
    "- Docstrings and comments in your code are strongly suggested but won't be graded\n",
    "- This homework is mostly auto-graded.  The blank code blocks are the auto-grading scripts - please do not delete these!\n",
    "- Your code needs to be written in the #Your Code Here blocks or it wont be graded correctly.\n"
   ]
  },
  {
   "cell_type": "markdown",
   "metadata": {
    "deletable": false,
    "editable": false,
    "nbgrader": {
     "cell_type": "markdown",
     "checksum": "ad9412d3653684f40616663dbe2261a0",
     "grade": false,
     "grade_id": "cell-0719bd99a26f5a20",
     "locked": true,
     "schema_version": 3,
     "solution": false
    }
   },
   "source": [
    "## Project 2 Proposal\n",
    "\n",
    "**Reminder!** Please complete your project 2 proposal, as discussed in class and outlined in the project_2 folder. As a group, submit your 1-2 page proposal as a PDF in your group project 2 repo. Please only submit one final version to be graded to your group repo!\n",
    "\n",
    "This is worth 10 points of your **project 2** grade (not the grade for this homework)."
   ]
  },
  {
   "cell_type": "markdown",
   "metadata": {
    "deletable": false,
    "editable": false,
    "nbgrader": {
     "cell_type": "markdown",
     "checksum": "97574d222090b936bfdf3ba78f538ae5",
     "grade": false,
     "grade_id": "cell-855c75985f9edefd",
     "locked": true,
     "schema_version": 3,
     "solution": false
    }
   },
   "source": [
    "## 1. List, Mapping, Filtering, and Reducing Comprehensions (30 points)\n",
    "\n",
    "A. Write a function named `compute` below that: \n",
    "- Returns the square of any number for integer or floating type values\n",
    "- Returns the reverse of the content if it is a string\n",
    "- Or returns the **value None** (not the string 'None') if it is another kind of value."
   ]
  },
  {
   "cell_type": "code",
   "execution_count": 9,
   "metadata": {
    "deletable": false,
    "nbgrader": {
     "cell_type": "code",
     "checksum": "933d3d8fe603a01febac026c8a2c9852",
     "grade": false,
     "grade_id": "cell-dfddd13006f81c36",
     "locked": false,
     "schema_version": 3,
     "solution": true
    }
   },
   "outputs": [],
   "source": [
    "def compute(value):\n",
    "    \n",
    "    valueType = type(value)\n",
    "    \n",
    "    if valueType == int or valueType == float:\n",
    "        return value ** 2\n",
    "    \n",
    "    elif valueType == str:\n",
    "        return value[::-1]\n",
    "    \n",
    "    else:\n",
    "        return None\n",
    "    \n",
    "    raise NotImplementedError()"
   ]
  },
  {
   "cell_type": "code",
   "execution_count": null,
   "metadata": {
    "deletable": false,
    "editable": false,
    "nbgrader": {
     "cell_type": "code",
     "checksum": "5c1423b7df242ddf203f4ffa45d55ce7",
     "grade": true,
     "grade_id": "cell-88242cbaef2afe19",
     "locked": true,
     "points": 1,
     "schema_version": 3,
     "solution": false
    }
   },
   "outputs": [],
   "source": [
    "### Autograded cells. Do not remove."
   ]
  },
  {
   "cell_type": "code",
   "execution_count": null,
   "metadata": {
    "deletable": false,
    "editable": false,
    "nbgrader": {
     "cell_type": "code",
     "checksum": "3d5d4e06f87cf4ecc78d1af83d7df3d2",
     "grade": true,
     "grade_id": "cell-a54757f9e0cf6953",
     "locked": true,
     "points": 1,
     "schema_version": 3,
     "solution": false
    }
   },
   "outputs": [],
   "source": [
    "### Autograded cells. Do not remove."
   ]
  },
  {
   "cell_type": "code",
   "execution_count": null,
   "metadata": {
    "deletable": false,
    "editable": false,
    "nbgrader": {
     "cell_type": "code",
     "checksum": "605432815c3ba407a52d91dbcdc4da00",
     "grade": true,
     "grade_id": "cell-61c74abebff6dbc1",
     "locked": true,
     "points": 1,
     "schema_version": 3,
     "solution": false
    }
   },
   "outputs": [],
   "source": [
    "### Autograded cells. Do not remove."
   ]
  },
  {
   "cell_type": "code",
   "execution_count": null,
   "metadata": {
    "deletable": false,
    "editable": false,
    "nbgrader": {
     "cell_type": "code",
     "checksum": "613249a69014af1411ef4ea121c07c7e",
     "grade": true,
     "grade_id": "cell-257a5430df922fd1",
     "locked": true,
     "points": 1,
     "schema_version": 3,
     "solution": false
    }
   },
   "outputs": [],
   "source": [
    "### Autograded cells. Do not remove."
   ]
  },
  {
   "cell_type": "code",
   "execution_count": null,
   "metadata": {
    "deletable": false,
    "editable": false,
    "nbgrader": {
     "cell_type": "code",
     "checksum": "d78da69fc4a639a3388e2853a7e9786b",
     "grade": true,
     "grade_id": "cell-5d03b88c9be3c01b",
     "locked": true,
     "points": 1,
     "schema_version": 3,
     "solution": false
    }
   },
   "outputs": [],
   "source": [
    "### Autograded cells. Do not remove."
   ]
  },
  {
   "cell_type": "code",
   "execution_count": null,
   "metadata": {
    "deletable": false,
    "editable": false,
    "nbgrader": {
     "cell_type": "code",
     "checksum": "a7b34628894a9862ffd51083b72ec18f",
     "grade": true,
     "grade_id": "cell-0638d1c51a1805d6",
     "locked": true,
     "points": 1,
     "schema_version": 3,
     "solution": false
    }
   },
   "outputs": [],
   "source": [
    "### Autograded cells. Do not remove."
   ]
  },
  {
   "cell_type": "code",
   "execution_count": null,
   "metadata": {
    "deletable": false,
    "editable": false,
    "nbgrader": {
     "cell_type": "code",
     "checksum": "c0817af212ad1b59e57ab4e183a89c27",
     "grade": true,
     "grade_id": "cell-90fd0a6f7ef73ec9",
     "locked": true,
     "points": 1,
     "schema_version": 3,
     "solution": false
    }
   },
   "outputs": [],
   "source": [
    "### Autograded cells. Do not remove."
   ]
  },
  {
   "cell_type": "code",
   "execution_count": null,
   "metadata": {
    "deletable": false,
    "editable": false,
    "nbgrader": {
     "cell_type": "code",
     "checksum": "9c976c777f416aada68f305496aa279b",
     "grade": true,
     "grade_id": "cell-ecdc2af266b16e43",
     "locked": true,
     "points": 1,
     "schema_version": 3,
     "solution": false
    }
   },
   "outputs": [],
   "source": [
    "### Autograded cells. Do not remove."
   ]
  },
  {
   "cell_type": "code",
   "execution_count": null,
   "metadata": {
    "deletable": false,
    "editable": false,
    "nbgrader": {
     "cell_type": "code",
     "checksum": "eb27d6025ea32e8769b11a0258c7cba9",
     "grade": true,
     "grade_id": "cell-6045cb8b4c8c6c0b",
     "locked": true,
     "points": 2,
     "schema_version": 3,
     "solution": false
    }
   },
   "outputs": [],
   "source": [
    "### Autograded cells. Do not remove."
   ]
  },
  {
   "cell_type": "markdown",
   "metadata": {
    "deletable": false,
    "editable": false,
    "nbgrader": {
     "cell_type": "markdown",
     "checksum": "7c00b2499c221dc70610b85b0db0c389",
     "grade": false,
     "grade_id": "cell-0f13fa84ab6c1b52",
     "locked": true,
     "schema_version": 3,
     "solution": false
    }
   },
   "source": [
    "B. Now apply the `compute` function made in 1A. (above) using `map` to a list of values. Write this `map` statement in the new function named `map_compute`. Return the values as a `list` (not a `map_object`). You should be able to do this in ONE single line! \n",
    "\n",
    "Example function call: \n",
    "\n",
    "```map_compute(['cup', '321', 12, ['x'], 4, True])```\n",
    "\n",
    "Expected returned output: \n",
    "\n",
    "```['puc', '123', 144, None, 16, None]```\n"
   ]
  },
  {
   "cell_type": "code",
   "execution_count": 13,
   "metadata": {
    "deletable": false,
    "nbgrader": {
     "cell_type": "code",
     "checksum": "219c211d3d557e9d3d5880168d18cf73",
     "grade": false,
     "grade_id": "cell-da6d422423b3c077",
     "locked": false,
     "schema_version": 3,
     "solution": true
    }
   },
   "outputs": [
    {
     "data": {
      "text/plain": [
       "['puc', '123', 144, None, 16, None]"
      ]
     },
     "execution_count": 13,
     "metadata": {},
     "output_type": "execute_result"
    }
   ],
   "source": [
    "def map_compute(my_list):\n",
    "    return list(map(compute, my_list))\n",
    "    \n",
    "    raise NotImplementedError()\n",
    "\n",
    "map_compute(['cup', '321', 12, ['x'], 4, True])\n"
   ]
  },
  {
   "cell_type": "code",
   "execution_count": null,
   "metadata": {
    "deletable": false,
    "editable": false,
    "nbgrader": {
     "cell_type": "code",
     "checksum": "a9280db9bac2ae45654805fc39ce11a4",
     "grade": true,
     "grade_id": "cell-2664bfa811f05f4f",
     "locked": true,
     "points": 5,
     "schema_version": 3,
     "solution": false
    }
   },
   "outputs": [],
   "source": [
    "### Autograded cells. Do not remove."
   ]
  },
  {
   "cell_type": "markdown",
   "metadata": {
    "deletable": false,
    "editable": false,
    "nbgrader": {
     "cell_type": "markdown",
     "checksum": "fb8a216c8ef468551795363f8d36be6e",
     "grade": false,
     "grade_id": "cell-9e20909606598336",
     "locked": true,
     "schema_version": 3,
     "solution": false
    }
   },
   "source": [
    "C. Write a new function named `filter_compute` to remove any **integer** values that are less than 5 in your `map` result and return this result as a `list`. You should be able to this in ONE single line. Some pseudo-code below:\n",
    "\n",
    "- Step 1: Use `map` to apply ```compute``` function from Part 1A to your list (as you did above in 1B)\n",
    "- Step 2: Use `filter` to apply the above constraint to your output of Step 1. You might want to re-factor your filter logic in a separate function (it won't be counted against the single line constraint imposed above)\n",
    "\n",
    "Example function call: \n",
    "```filter_compute(['cup', '321', 2, ['x'], 4, True])```\n",
    "\n",
    "Expected returned output: \n",
    "\n",
    "```['puc', '123', None, 16, None]```"
   ]
  },
  {
   "cell_type": "code",
   "execution_count": 12,
   "metadata": {
    "deletable": false,
    "nbgrader": {
     "cell_type": "code",
     "checksum": "6044d774a907903c2c2c40338014253f",
     "grade": false,
     "grade_id": "cell-66df364de55a24a3",
     "locked": false,
     "schema_version": 3,
     "solution": true
    }
   },
   "outputs": [
    {
     "data": {
      "text/plain": [
       "['puc', '123', None, 16, None]"
      ]
     },
     "execution_count": 12,
     "metadata": {},
     "output_type": "execute_result"
    }
   ],
   "source": [
    "def filter_compute(my_list):\n",
    "    return list(filter(lambda x: False if (type(x)==int or type(x)==float) and x < 5 else True, map(compute, my_list))) \n",
    "    \n",
    "    raise NotImplementedError()\n",
    "\n",
    "filter_compute(['cup', '321', 2, ['x'], 4, True])   "
   ]
  },
  {
   "cell_type": "code",
   "execution_count": null,
   "metadata": {
    "deletable": false,
    "editable": false,
    "nbgrader": {
     "cell_type": "code",
     "checksum": "63abd2e0d8468b25334fbebda16fcdbd",
     "grade": true,
     "grade_id": "cell-4223e633a4ff1d77",
     "locked": true,
     "points": 2,
     "schema_version": 3,
     "solution": false
    }
   },
   "outputs": [],
   "source": [
    "### Autograded cells. Do not remove."
   ]
  },
  {
   "cell_type": "code",
   "execution_count": null,
   "metadata": {
    "deletable": false,
    "editable": false,
    "nbgrader": {
     "cell_type": "code",
     "checksum": "3317427f16375217cbc930dc0b129552",
     "grade": true,
     "grade_id": "cell-5000c212c192ee9d",
     "locked": true,
     "points": 3,
     "schema_version": 3,
     "solution": false
    }
   },
   "outputs": [],
   "source": [
    "### Autograded cells. Do not remove."
   ]
  },
  {
   "cell_type": "markdown",
   "metadata": {
    "deletable": false,
    "editable": false,
    "nbgrader": {
     "cell_type": "markdown",
     "checksum": "6f070c0b07cb7771ea5ad7e72d90f8f7",
     "grade": false,
     "grade_id": "cell-4f7277d7cf12a572",
     "locked": true,
     "schema_version": 3,
     "solution": false
    }
   },
   "source": [
    "D. Now that you are an expert in maps and filters, write the above logic from Part 1B & 1C in ONE line using 2 `lambda` functions, 1 for the `map`, and 1 for the `filter` part in the function named `lambda_compute`. This should be one line with one lambda for the map and one lambda for the filter.  Do **NOT** use the lambdas to call the functions you already made in the parts above (1A, 1B or 1C), instead make the same logic in a lambda function. \n",
    "\n",
    "Hint: It could be easier to start with separate lambda functions and then combine then into one."
   ]
  },
  {
   "cell_type": "code",
   "execution_count": 18,
   "metadata": {
    "deletable": false,
    "nbgrader": {
     "cell_type": "code",
     "checksum": "4d05e5f3848c042d960fa1c59d78882c",
     "grade": false,
     "grade_id": "cell-9c917cb0bb771ad9",
     "locked": false,
     "schema_version": 3,
     "solution": true
    }
   },
   "outputs": [
    {
     "data": {
      "text/plain": [
       "['puc', '123', None, 16, None]"
      ]
     },
     "execution_count": 18,
     "metadata": {},
     "output_type": "execute_result"
    }
   ],
   "source": [
    "def lambda_compute(my_list):\n",
    "    return list(filter(lambda x: False if (type(x)==int or type(x)==float)\\\n",
    "                and x < 5 else True, list(map(lambda x : x**2 \\\n",
    "                if type(x) == int or type(x) == float else \\\n",
    "                x[::-1] if type(x) == str else None , my_list))))\n",
    "    \n",
    "    raise NotImplementedError()\n",
    "    \n",
    "lambda_compute(['cup', '321', 2, ['x'], 4, True])"
   ]
  },
  {
   "cell_type": "code",
   "execution_count": null,
   "metadata": {
    "deletable": false,
    "editable": false,
    "nbgrader": {
     "cell_type": "code",
     "checksum": "3d5e35689834703ee335101d93740fd6",
     "grade": true,
     "grade_id": "cell-e1378a17ce05ee60",
     "locked": true,
     "points": 2,
     "schema_version": 3,
     "solution": false
    }
   },
   "outputs": [],
   "source": [
    "### Autograded cells. Do not remove."
   ]
  },
  {
   "cell_type": "code",
   "execution_count": null,
   "metadata": {
    "deletable": false,
    "editable": false,
    "nbgrader": {
     "cell_type": "code",
     "checksum": "03e4db85b8c0106d798e5d219b3e9894",
     "grade": true,
     "grade_id": "cell-6cf9e33c874af18a",
     "locked": true,
     "points": 4,
     "schema_version": 3,
     "solution": false
    }
   },
   "outputs": [],
   "source": [
    "### Autograded cells. Do not remove."
   ]
  },
  {
   "cell_type": "code",
   "execution_count": null,
   "metadata": {
    "deletable": false,
    "editable": false,
    "nbgrader": {
     "cell_type": "code",
     "checksum": "b9d5d16ab248b503266a63890a09ce45",
     "grade": true,
     "grade_id": "cell-6b640ea2a1288292",
     "locked": true,
     "points": 4,
     "schema_version": 3,
     "solution": false
    }
   },
   "outputs": [],
   "source": [
    "### Autograded cells. Do not remove."
   ]
  },
  {
   "cell_type": "markdown",
   "metadata": {
    "deletable": false,
    "editable": false,
    "nbgrader": {
     "cell_type": "markdown",
     "checksum": "8774220445a3bb08ec43409aa998c328",
     "grade": false,
     "grade_id": "cell-4fe5ba9f67aac0d8",
     "locked": true,
     "schema_version": 3,
     "solution": false
    }
   },
   "source": [
    "## 2. NumPy (40 points)\n",
    "In this next section, we will work with NumPy. For each question below, use NumPy functionality to execute the logic of your answer. (**Do not use ```For``` loops!**)"
   ]
  },
  {
   "cell_type": "markdown",
   "metadata": {
    "deletable": false,
    "editable": false,
    "nbgrader": {
     "cell_type": "markdown",
     "checksum": "f927a8ef47c5b43c2628b986786b29da",
     "grade": false,
     "grade_id": "cell-beb2cf017d0e0c6c",
     "locked": true,
     "schema_version": 3,
     "solution": false
    }
   },
   "source": [
    "#### Generating Random Data and Filtering That Data\n",
    "\n",
    "Please run the two cells below to set your random seed. (This makes the 'randomness' of the array the same for everyone)"
   ]
  },
  {
   "cell_type": "code",
   "execution_count": null,
   "metadata": {
    "deletable": false,
    "editable": false,
    "nbgrader": {
     "cell_type": "code",
     "checksum": "0b4fb0a957c9ffc89bb92c4e4ef6790f",
     "grade": false,
     "grade_id": "cell-2eef38fa43df4ac5",
     "locked": true,
     "schema_version": 3,
     "solution": false
    }
   },
   "outputs": [],
   "source": [
    "import numpy as np\n",
    "np.random.seed(25)\n",
    "ar = np.random.randn(1000)"
   ]
  },
  {
   "cell_type": "code",
   "execution_count": null,
   "metadata": {
    "deletable": false,
    "editable": false,
    "nbgrader": {
     "cell_type": "code",
     "checksum": "d0fa76ea11fabcf0176c9703a31b1318",
     "grade": false,
     "grade_id": "cell-d091070fb4fa4d8e",
     "locked": true,
     "schema_version": 3,
     "solution": false
    }
   },
   "outputs": [],
   "source": [
    "\n",
    "# Do NOT change this code!\n",
    "ar = ar * 100\n",
    "ar = ar.astype('int8')\n",
    "ar"
   ]
  },
  {
   "cell_type": "code",
   "execution_count": null,
   "metadata": {
    "deletable": false,
    "editable": false,
    "nbgrader": {
     "cell_type": "code",
     "checksum": "7a0289614b4ce068b19383f8ee06526c",
     "grade": true,
     "grade_id": "cell-122df6676e7ea0b4",
     "locked": true,
     "points": 0,
     "schema_version": 3,
     "solution": false
    }
   },
   "outputs": [],
   "source": [
    "## Autograded cells. Do not remove"
   ]
  },
  {
   "cell_type": "markdown",
   "metadata": {
    "deletable": false,
    "editable": false,
    "nbgrader": {
     "cell_type": "markdown",
     "checksum": "958822756ed8569faa6897c66b673eb6",
     "grade": false,
     "grade_id": "cell-20f89916d2da1dd6",
     "locked": true,
     "schema_version": 3,
     "solution": false
    }
   },
   "source": [
    "A. Write code in the function ```reshape``` that takes an array of size 1000 and reshapes the array into a set of five columns with 200 rows. Return this new array and replace the original ```ar``` array with it."
   ]
  },
  {
   "cell_type": "code",
   "execution_count": null,
   "metadata": {
    "deletable": false,
    "nbgrader": {
     "cell_type": "code",
     "checksum": "ba0a20428b16e17207decc3cc7d5b451",
     "grade": false,
     "grade_id": "cell-0d019784425900d3",
     "locked": false,
     "schema_version": 3,
     "solution": true
    }
   },
   "outputs": [],
   "source": [
    "def reshape(my_array):\n",
    "    \n",
    "    return my_array.reshape(200,5)\n",
    "\n",
    "    raise NotImplementedError()\n",
    "\n",
    "ar = reshape(ar)"
   ]
  },
  {
   "cell_type": "code",
   "execution_count": null,
   "metadata": {
    "deletable": false,
    "editable": false,
    "nbgrader": {
     "cell_type": "code",
     "checksum": "d0a6ba802c2b59e5c846b9ad8ab7beea",
     "grade": true,
     "grade_id": "cell-5ee412cb4b703023",
     "locked": true,
     "points": 5,
     "schema_version": 3,
     "solution": false
    }
   },
   "outputs": [],
   "source": [
    "### Autograded cells. Do not remove."
   ]
  },
  {
   "cell_type": "markdown",
   "metadata": {
    "deletable": false,
    "editable": false,
    "nbgrader": {
     "cell_type": "markdown",
     "checksum": "3b160b825461519e08bd4682ca7ce551",
     "grade": false,
     "grade_id": "cell-a32291f630413c09",
     "locked": true,
     "schema_version": 3,
     "solution": false
    }
   },
   "source": [
    "B. Now that `ar` is a matrix, create a function named ```row_min_max``` to get the maximum and minimum values from the matrix, row wise. This function returns a tuple of a list of row max values and a list of row min values (in that order). Be sure to remember how many total values you should be outputting (one for every row).\n",
    "\n",
    "For example: if my_matrix is:\n",
    "\n",
    "```\n",
    "4 1 5\n",
    "5 6 7\n",
    "4 5 6\n",
    "```\n",
    "\n",
    "\n",
    "The returned value should be:\n",
    "\n",
    "```\n",
    "([5,7,6], [1,5,4])\n",
    "```"
   ]
  },
  {
   "cell_type": "code",
   "execution_count": null,
   "metadata": {
    "deletable": false,
    "nbgrader": {
     "cell_type": "code",
     "checksum": "14031178142d305a5d96ea6af7cd21f5",
     "grade": false,
     "grade_id": "cell-b471db922002b45e",
     "locked": false,
     "schema_version": 3,
     "solution": true
    }
   },
   "outputs": [],
   "source": [
    "def row_min_max(my_matrix):\n",
    "    Max = list(my_matrix.max(axis=1))\n",
    "    Min = list(my_matrix.min(axis=1))\n",
    "    \n",
    "    #I am putting them in a tuple because the instructions says so.\n",
    "    result = (Max, Min)\n",
    "    return result\n",
    "    raise NotImplementedError()\n",
    "    \n",
    "row_min_max(ar)"
   ]
  },
  {
   "cell_type": "code",
   "execution_count": null,
   "metadata": {
    "deletable": false,
    "editable": false,
    "nbgrader": {
     "cell_type": "code",
     "checksum": "a98b87f8553a85a20d50e3a482bf7c7b",
     "grade": true,
     "grade_id": "cell-954080f6af7c07aa",
     "locked": true,
     "points": 5,
     "schema_version": 3,
     "solution": false
    }
   },
   "outputs": [],
   "source": [
    "### Autograded cells. Do not remove."
   ]
  },
  {
   "cell_type": "code",
   "execution_count": null,
   "metadata": {
    "deletable": false,
    "editable": false,
    "nbgrader": {
     "cell_type": "code",
     "checksum": "81d52b2c35332d1b0cfc642d02cfac8f",
     "grade": true,
     "grade_id": "cell-43f412becdd55cd9",
     "locked": true,
     "points": 5,
     "schema_version": 3,
     "solution": false
    }
   },
   "outputs": [],
   "source": [
    "### Autograded cells. Do not remove."
   ]
  },
  {
   "cell_type": "markdown",
   "metadata": {
    "deletable": false,
    "editable": false,
    "nbgrader": {
     "cell_type": "markdown",
     "checksum": "3430c4a82ac0e976863cf2062ead141b",
     "grade": false,
     "grade_id": "cell-7c427d8be0250ebb",
     "locked": true,
     "schema_version": 3,
     "solution": false
    }
   },
   "source": [
    "C. Write a function named ```less_than_mean``` that returns the total **number** of values in the `ar` matrix that are less than the mean of all values in the matrix. This should be a single number."
   ]
  },
  {
   "cell_type": "code",
   "execution_count": 19,
   "metadata": {
    "deletable": false,
    "nbgrader": {
     "cell_type": "code",
     "checksum": "8e3e66d5c6f588f46bb865088d340098",
     "grade": false,
     "grade_id": "cell-94c5aa4964f3d1f2",
     "locked": false,
     "schema_version": 3,
     "solution": true
    }
   },
   "outputs": [
    {
     "ename": "NameError",
     "evalue": "name 'ar' is not defined",
     "output_type": "error",
     "traceback": [
      "\u001b[1;31m---------------------------------------------------------------------------\u001b[0m",
      "\u001b[1;31mNameError\u001b[0m                                 Traceback (most recent call last)",
      "\u001b[1;32m<ipython-input-19-ec3c74e34f67>\u001b[0m in \u001b[0;36m<module>\u001b[1;34m\u001b[0m\n\u001b[0;32m      6\u001b[0m     \u001b[1;32mraise\u001b[0m \u001b[0mNotImplementedError\u001b[0m\u001b[1;33m(\u001b[0m\u001b[1;33m)\u001b[0m\u001b[1;33m\u001b[0m\u001b[1;33m\u001b[0m\u001b[0m\n\u001b[0;32m      7\u001b[0m \u001b[1;33m\u001b[0m\u001b[0m\n\u001b[1;32m----> 8\u001b[1;33m \u001b[0mless_than_mean\u001b[0m\u001b[1;33m(\u001b[0m\u001b[0mar\u001b[0m\u001b[1;33m)\u001b[0m\u001b[1;33m\u001b[0m\u001b[1;33m\u001b[0m\u001b[0m\n\u001b[0m",
      "\u001b[1;31mNameError\u001b[0m: name 'ar' is not defined"
     ]
    }
   ],
   "source": [
    "def less_than_mean(my_matrix):\n",
    "    m = my_matrix.mean()\n",
    "    values = my_matrix[my_matrix < m]\n",
    "    \n",
    "    #using len() to print the total number of values in the ar matrix\n",
    "    #that are less than the mean of all values in the matrix.\n",
    "    return len(values)\n",
    "    \n",
    "    raise NotImplementedError()\n",
    "    \n",
    "less_than_mean(ar)"
   ]
  },
  {
   "cell_type": "code",
   "execution_count": null,
   "metadata": {
    "deletable": false,
    "editable": false,
    "nbgrader": {
     "cell_type": "code",
     "checksum": "66d6195ded054dd9f8100fc2ef997971",
     "grade": true,
     "grade_id": "cell-68acd2e1a791ca95",
     "locked": true,
     "points": 5,
     "schema_version": 3,
     "solution": false
    }
   },
   "outputs": [],
   "source": [
    "### Autograded cells. Do not remove."
   ]
  },
  {
   "cell_type": "markdown",
   "metadata": {
    "deletable": false,
    "editable": false,
    "nbgrader": {
     "cell_type": "markdown",
     "checksum": "3757008b5f6d3b492b3798b146b0a1f1",
     "grade": false,
     "grade_id": "cell-d8a6701aeae23f71",
     "locked": true,
     "schema_version": 3,
     "solution": false
    }
   },
   "source": [
    "D. Write a function called ```max_position``` that returns the position (as a tuple) of the max value in the passed matrix. \n",
    "\n",
    "For example: if ```my_matrix``` is:\n",
    "```\n",
    "4 1 5\n",
    "5 6 7\n",
    "4 5 6\n",
    "```\n",
    "The returned value should be:\n",
    "```\n",
    "(1, 2)\n",
    "```"
   ]
  },
  {
   "cell_type": "code",
   "execution_count": null,
   "metadata": {
    "deletable": false,
    "nbgrader": {
     "cell_type": "code",
     "checksum": "0f0f43392b91ce2ecd8efb3b7c0ab73d",
     "grade": false,
     "grade_id": "cell-dd7e2cf875c5c658",
     "locked": false,
     "schema_version": 3,
     "solution": true
    }
   },
   "outputs": [],
   "source": [
    "def max_position(my_matrix):\n",
    "    \n",
    "    index = my_matrix.argmax()\n",
    "    row = index // len(my_matrix[0])\n",
    "    col = index % len(my_matrix[0])\n",
    "    position = (row, col)\n",
    "    return position\n",
    "    raise NotImplementedError()\n",
    "\n",
    "max_position(ar)"
   ]
  },
  {
   "cell_type": "code",
   "execution_count": null,
   "metadata": {
    "deletable": false,
    "editable": false,
    "nbgrader": {
     "cell_type": "code",
     "checksum": "bfa56824fb183a1a94a2448555c26944",
     "grade": true,
     "grade_id": "cell-2f68514d7603a461",
     "locked": true,
     "points": 5,
     "schema_version": 3,
     "solution": false
    }
   },
   "outputs": [],
   "source": [
    "### Autograded cells. Do not remove."
   ]
  },
  {
   "cell_type": "markdown",
   "metadata": {
    "deletable": false,
    "editable": false,
    "nbgrader": {
     "cell_type": "markdown",
     "checksum": "2b8dc64363d7e8d911bdfb397d6ccc6c",
     "grade": false,
     "grade_id": "cell-6391ee7588430f0b",
     "locked": true,
     "schema_version": 3,
     "solution": false
    }
   },
   "source": [
    "E. Lastly, write a function named ```select_sum``` that returns the sum of all the values of a boolean array indexed `ar` matrix. Use the boolean array index of the `ar` matrix by: \n",
    "- values greater than 100 -boolean or-\n",
    "- values less than 5 -boolean and- greater than or equal to -20"
   ]
  },
  {
   "cell_type": "code",
   "execution_count": null,
   "metadata": {
    "deletable": false,
    "nbgrader": {
     "cell_type": "code",
     "checksum": "cfe320f577bdf2436c22a8c49d47d380",
     "grade": false,
     "grade_id": "cell-e4d8cc0f8b6aaaa7",
     "locked": false,
     "schema_version": 3,
     "solution": true
    }
   },
   "outputs": [],
   "source": [
    "def select_sum(my_matrix):\n",
    "    \n",
    "    return my_matrix[(my_matrix > 100) | (my_matrix >= -20) & (my_matrix < 5)].sum()\n",
    "    \n",
    "    raise NotImplementedError()\n",
    "\n",
    "select_sum(ar)"
   ]
  },
  {
   "cell_type": "code",
   "execution_count": null,
   "metadata": {
    "deletable": false,
    "editable": false,
    "nbgrader": {
     "cell_type": "code",
     "checksum": "a4667a70edbabd1487742435582a49ee",
     "grade": true,
     "grade_id": "cell-e39d29342e27b90c",
     "locked": true,
     "points": 5,
     "schema_version": 3,
     "solution": false
    }
   },
   "outputs": [],
   "source": [
    "### Autograded cells. Do not remove."
   ]
  },
  {
   "cell_type": "code",
   "execution_count": null,
   "metadata": {
    "deletable": false,
    "editable": false,
    "nbgrader": {
     "cell_type": "code",
     "checksum": "8a2b01ed90aca2a4082960bfa18c6c31",
     "grade": true,
     "grade_id": "cell-dbf2b3b44a75122f",
     "locked": true,
     "points": 10,
     "schema_version": 3,
     "solution": false
    }
   },
   "outputs": [],
   "source": [
    "### Autograded cells. Do not remove."
   ]
  },
  {
   "cell_type": "markdown",
   "metadata": {
    "deletable": false,
    "editable": false,
    "nbgrader": {
     "cell_type": "markdown",
     "checksum": "dbe9e8fcd08a097b743e439cb81c6c33",
     "grade": false,
     "grade_id": "cell-3eafc252df099313",
     "locked": true,
     "schema_version": 3,
     "solution": false
    }
   },
   "source": [
    "## 3. Data loading and indexing using Pandas (30 points)"
   ]
  },
  {
   "cell_type": "markdown",
   "metadata": {
    "deletable": false,
    "editable": false,
    "nbgrader": {
     "cell_type": "markdown",
     "checksum": "37484d8219f88597d9470fe8f49cb919",
     "grade": false,
     "grade_id": "cell-b1ae895eef6e2aed",
     "locked": true,
     "schema_version": 3,
     "solution": false
    }
   },
   "source": [
    "A. For this part of the homework, we will work with the airline safety dataset. As the first step, load the dataset from `airline-safety.csv` by defining the `load_data` function below. Have this function return the following (in order):\n",
    "\n",
    "1. The entire data frame\n",
    "2. Total number of rows\n",
    "3. Total number of columns"
   ]
  },
  {
   "cell_type": "code",
   "execution_count": null,
   "metadata": {
    "deletable": false,
    "nbgrader": {
     "cell_type": "code",
     "checksum": "a048bf5f1f97799860737b76d554d3f8",
     "grade": false,
     "grade_id": "cell-ef6a22dec940a01a",
     "locked": false,
     "schema_version": 3,
     "solution": true
    }
   },
   "outputs": [],
   "source": [
    "def load_data():\n",
    "    \n",
    "    df = pd.read_csv('airline-safety.csv')\n",
    "    num_rows = df.shape[0]\n",
    "    num_cols = df.shape[1]\n",
    "    return(df, num_rows, num_cols)\n",
    "\n",
    "    raise NotImplementedError()\n",
    "\n",
    "df, num_rows, num_cols = load_data()"
   ]
  },
  {
   "cell_type": "code",
   "execution_count": null,
   "metadata": {
    "deletable": false,
    "editable": false,
    "nbgrader": {
     "cell_type": "code",
     "checksum": "8d6dece2ce5396296f55056d0d4e8448",
     "grade": true,
     "grade_id": "cell-5512005b0518cb19",
     "locked": true,
     "points": 3,
     "schema_version": 3,
     "solution": false
    }
   },
   "outputs": [],
   "source": [
    "### Autograded cells. Do not remove."
   ]
  },
  {
   "cell_type": "code",
   "execution_count": null,
   "metadata": {
    "deletable": false,
    "editable": false,
    "nbgrader": {
     "cell_type": "code",
     "checksum": "dcdeb526ba6cb94cb43029c8d9181c81",
     "grade": true,
     "grade_id": "cell-e38b3d9cf3848445",
     "locked": true,
     "points": 3,
     "schema_version": 3,
     "solution": false
    }
   },
   "outputs": [],
   "source": [
    "### Autograded cells. Do not remove."
   ]
  },
  {
   "cell_type": "code",
   "execution_count": null,
   "metadata": {
    "deletable": false,
    "editable": false,
    "nbgrader": {
     "cell_type": "code",
     "checksum": "e985aa3e9f73251a6a7b579d5e7add61",
     "grade": true,
     "grade_id": "cell-e638ee9afc9eda4c",
     "locked": true,
     "points": 4,
     "schema_version": 3,
     "solution": false
    }
   },
   "outputs": [],
   "source": [
    "### Autograded cells. Do not remove."
   ]
  },
  {
   "cell_type": "markdown",
   "metadata": {
    "deletable": false,
    "editable": false,
    "nbgrader": {
     "cell_type": "markdown",
     "checksum": "76482fcd9078016d81563642da23ae88",
     "grade": false,
     "grade_id": "cell-274266303e7099d3",
     "locked": true,
     "schema_version": 3,
     "solution": false
    }
   },
   "source": [
    "B. Write the function `select_airlines` that returns the ith to jth airline name as a **list** (both inclusive) from the dataframe. \n",
    "\n",
    "For example: if i=2 and j=5, your code should return 4 airline names: airline name from the 3rd, 4th, 5th and 6th row (assuming that the first row starts from 0). \n",
    "\n",
    "##### Note on loc and iloc\n",
    "\n",
    "Selection Using Label:\n",
    "\n",
    "To select a column of a DataFrame by column label, the safest and fastest way is to use the .loc method. General usage looks like frame.loc[rowname,colname]. (Reminder that the colon : means \"everything\"). For example, if we want the color column of a data frame, we would use : ex.loc[:, 'color']\n",
    "\n",
    "You can also slice across columns. For example, frame.loc[:, 'Name':] would give select the columns Name and the columns after.\n"
   ]
  },
  {
   "cell_type": "code",
   "execution_count": null,
   "metadata": {
    "deletable": false,
    "nbgrader": {
     "cell_type": "code",
     "checksum": "f10cba62fb27409f107df241986a552f",
     "grade": false,
     "grade_id": "cell-c7c0518e6cbd3979",
     "locked": false,
     "schema_version": 3,
     "solution": true
    }
   },
   "outputs": [],
   "source": [
    "def select_airlines(df, i, j):\n",
    "    \n",
    "    airline_names = list(df.loc[i:j,'airline'])\n",
    "    return(airline_names)\n",
    "    raise NotImplementedError()\n",
    "\n",
    "sliced_df = select_airlines(df, 2, 5)"
   ]
  },
  {
   "cell_type": "code",
   "execution_count": null,
   "metadata": {
    "deletable": false,
    "editable": false,
    "nbgrader": {
     "cell_type": "code",
     "checksum": "2d3da4d229ec864240854f3f93818d1e",
     "grade": true,
     "grade_id": "cell-b16eb5d2ca860801",
     "locked": true,
     "points": 5,
     "schema_version": 3,
     "solution": false
    }
   },
   "outputs": [],
   "source": [
    "### Autograded cells. Do not remove."
   ]
  },
  {
   "cell_type": "code",
   "execution_count": null,
   "metadata": {
    "deletable": false,
    "editable": false,
    "nbgrader": {
     "cell_type": "code",
     "checksum": "327c1d06a3b8d99d5ce4e481d074983b",
     "grade": true,
     "grade_id": "cell-22bc6e87acd50834",
     "locked": true,
     "points": 5,
     "schema_version": 3,
     "solution": false
    }
   },
   "outputs": [],
   "source": [
    "### Autograded cells. Do not remove."
   ]
  },
  {
   "cell_type": "markdown",
   "metadata": {
    "deletable": false,
    "editable": false,
    "nbgrader": {
     "cell_type": "markdown",
     "checksum": "df355b5cb9fbc09c639390f6a54e5ff5",
     "grade": false,
     "grade_id": "cell-c734a84d4bbfbfb2",
     "locked": true,
     "schema_version": 3,
     "solution": false
    }
   },
   "source": [
    "C. Filtering or slicing with boolean arrays\n",
    "\n",
    "In your quest for cleaner data, you will undoubtedly filter your data at some point: whether it be for clearing up cases with missing values, culling out fishy outliers, or analyzing subgroups of your data set. Note: compound expressions have to be grouped with parentheses. \n",
    "\n",
    "A filter example:  \n",
    "`df[df[column name] < 5]]`\n",
    "\n",
    "Write the function `fatalities_filter` to return just the airline names with more than 100 and less than 300 fatalities, between the years 85 and 99. Your function needs to return a **list** of **airline names only**."
   ]
  },
  {
   "cell_type": "code",
   "execution_count": null,
   "metadata": {
    "deletable": false,
    "nbgrader": {
     "cell_type": "code",
     "checksum": "2523fb3331a917ed998399ee77b79a95",
     "grade": false,
     "grade_id": "cell-4b18133b2693dc16",
     "locked": false,
     "schema_version": 3,
     "solution": true
    }
   },
   "outputs": [],
   "source": [
    "def fatalities_filter(df):\n",
    "    \n",
    "    df = df[ (df[\"fatalities_85_99\"] > 100) & (df[\"fatalities_85_99\"] < 300) ]\n",
    "    airline_names = list(df[\"airline\"])\n",
    "\n",
    "    return airline_names\n",
    "    raise NotImplementedError()\n",
    "\n",
    "fatalities_filter(df)"
   ]
  },
  {
   "cell_type": "code",
   "execution_count": null,
   "metadata": {
    "deletable": false,
    "editable": false,
    "nbgrader": {
     "cell_type": "code",
     "checksum": "6d814adfbdd545ca22bfd09e440860ae",
     "grade": true,
     "grade_id": "cell-1791d836b0f19870",
     "locked": true,
     "points": 10,
     "schema_version": 3,
     "solution": false
    }
   },
   "outputs": [],
   "source": [
    "### Autograded cells. Do not remove."
   ]
  },
  {
   "cell_type": "markdown",
   "metadata": {
    "deletable": false,
    "editable": false,
    "nbgrader": {
     "cell_type": "markdown",
     "checksum": "bad0de3b400629d5db5cfae61133ef5e",
     "grade": false,
     "grade_id": "cell-e6c080c80504b5d1",
     "locked": true,
     "schema_version": 3,
     "solution": false
    }
   },
   "source": [
    "## If you have feedback for this homework, please submit it using the link below:\n",
    "\n",
    "http://goo.gl/forms/74yCiQTf6k"
   ]
  }
 ],
 "metadata": {
  "anaconda-cloud": {},
  "kernelspec": {
   "display_name": "Python 3",
   "language": "python",
   "name": "python3"
  },
  "language_info": {
   "codemirror_mode": {
    "name": "ipython",
    "version": 3
   },
   "file_extension": ".py",
   "mimetype": "text/x-python",
   "name": "python",
   "nbconvert_exporter": "python",
   "pygments_lexer": "ipython3",
   "version": "3.8.10"
  }
 },
 "nbformat": 4,
 "nbformat_minor": 1
}
