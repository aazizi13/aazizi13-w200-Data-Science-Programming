{
 "cells": [
  {
   "cell_type": "markdown",
   "metadata": {},
   "source": [
    "<h1 style=\"background-color:cornflowerblue;padding:8px;border-radius:4px;color:gold\">Pandas Review</h1>\n",
    "<p>Pandas, numpy, pyplot, matplotlib and others work together as part of a larger suite of activites related to analysis.  As usual, reading in data from files or streams usually requires first we <ul><li>collect the data in chunks not to overwhelm available resources and integrate them into a useful format (say converting all to .json or some delimited values)</li>\n",
    "    <li>clean the data: check the domain and range, check for missing values, perhaps inspect data types, and so on</li>\n",
    "    <li>cluster and perhaps create subgroups</li>\n",
    "    <li>check the measures of central tendency (make sure you've got the appropriate parametric or non-parametric stats)</li>\n",
    "    <li>and explore!</li>\n",
    "    </ul>\n",
    "    </p>\n",
    "    <hr />\n",
    "    <b>Why use Pandas?</b>\n",
    "<p>Pandas and other tools help in machine learning, scaling data, multiple regression, and more!  Usually work together with numpy, scipy, matplotlib, scikit-learn, pysqlite3, psycopg2, and others.\n",
    "    </p>\n",
    "<hr />\n",
    "Pandas components are <code>Series</code> (a column) and <code>DataFrame</code>, a multi-dimensional table made up of Series.\n",
    "<img src=\"series-and-dataframe.width-1200.png\" />\n",
    "Use pandas to create a frame (that looks like a combo of json and a dictionary):\n",
    "<br />\n",
    "<pre>\n",
    "data = { \n",
    "   'cats': [1, 4, 2, 8],\n",
    "   'dogs': [1, 3, 3, 2]\n",
    "}\n",
    "pets = pd.DataFrame(data)\n",
    "</pre>"
   ]
  },
  {
   "cell_type": "code",
   "execution_count": 2,
   "metadata": {},
   "outputs": [
    {
     "data": {
      "text/html": [
       "<div>\n",
       "<style scoped>\n",
       "    .dataframe tbody tr th:only-of-type {\n",
       "        vertical-align: middle;\n",
       "    }\n",
       "\n",
       "    .dataframe tbody tr th {\n",
       "        vertical-align: top;\n",
       "    }\n",
       "\n",
       "    .dataframe thead th {\n",
       "        text-align: right;\n",
       "    }\n",
       "</style>\n",
       "<table border=\"1\" class=\"dataframe\">\n",
       "  <thead>\n",
       "    <tr style=\"text-align: right;\">\n",
       "      <th></th>\n",
       "      <th>cats</th>\n",
       "      <th>dogs</th>\n",
       "    </tr>\n",
       "  </thead>\n",
       "  <tbody>\n",
       "    <tr>\n",
       "      <th>0</th>\n",
       "      <td>1</td>\n",
       "      <td>1</td>\n",
       "    </tr>\n",
       "    <tr>\n",
       "      <th>1</th>\n",
       "      <td>4</td>\n",
       "      <td>3</td>\n",
       "    </tr>\n",
       "    <tr>\n",
       "      <th>2</th>\n",
       "      <td>2</td>\n",
       "      <td>3</td>\n",
       "    </tr>\n",
       "    <tr>\n",
       "      <th>3</th>\n",
       "      <td>8</td>\n",
       "      <td>2</td>\n",
       "    </tr>\n",
       "  </tbody>\n",
       "</table>\n",
       "</div>"
      ],
      "text/plain": [
       "   cats  dogs\n",
       "0     1     1\n",
       "1     4     3\n",
       "2     2     3\n",
       "3     8     2"
      ]
     },
     "execution_count": 2,
     "metadata": {},
     "output_type": "execute_result"
    }
   ],
   "source": [
    "import pandas as pd\n",
    "\n",
    "data = { \n",
    "   'cats': [1, 4, 2, 8],\n",
    "   'dogs': [1, 3, 3, 2]\n",
    "}\n",
    "pets = pd.DataFrame(data)\n",
    "pets"
   ]
  },
  {
   "cell_type": "code",
   "execution_count": 4,
   "metadata": {
    "scrolled": true
   },
   "outputs": [
    {
     "data": {
      "text/html": [
       "<div>\n",
       "<style scoped>\n",
       "    .dataframe tbody tr th:only-of-type {\n",
       "        vertical-align: middle;\n",
       "    }\n",
       "\n",
       "    .dataframe tbody tr th {\n",
       "        vertical-align: top;\n",
       "    }\n",
       "\n",
       "    .dataframe thead th {\n",
       "        text-align: right;\n",
       "    }\n",
       "</style>\n",
       "<table border=\"1\" class=\"dataframe\">\n",
       "  <thead>\n",
       "    <tr style=\"text-align: right;\">\n",
       "      <th></th>\n",
       "      <th>cats</th>\n",
       "      <th>dogs</th>\n",
       "    </tr>\n",
       "  </thead>\n",
       "  <tbody>\n",
       "    <tr>\n",
       "      <th>Paris</th>\n",
       "      <td>123</td>\n",
       "      <td>81</td>\n",
       "    </tr>\n",
       "    <tr>\n",
       "      <th>Boston</th>\n",
       "      <td>14</td>\n",
       "      <td>33</td>\n",
       "    </tr>\n",
       "    <tr>\n",
       "      <th>Rome</th>\n",
       "      <td>42</td>\n",
       "      <td>113</td>\n",
       "    </tr>\n",
       "    <tr>\n",
       "      <th>Monterey</th>\n",
       "      <td>8</td>\n",
       "      <td>132</td>\n",
       "    </tr>\n",
       "  </tbody>\n",
       "</table>\n",
       "</div>"
      ],
      "text/plain": [
       "          cats  dogs\n",
       "Paris      123    81\n",
       "Boston      14    33\n",
       "Rome        42   113\n",
       "Monterey     8   132"
      ]
     },
     "execution_count": 4,
     "metadata": {},
     "output_type": "execute_result"
    }
   ],
   "source": [
    "import pandas as pd\n",
    "\n",
    "data = { \n",
    "   'cats': [123, 14, 42, 8],\n",
    "   'dogs': [81, 33, 113, 132]\n",
    "}\n",
    "new_pets = pd.DataFrame(data, index=['Paris','Boston','Rome','Monterey'])\n",
    "new_pets"
   ]
  },
  {
   "cell_type": "code",
   "execution_count": 5,
   "metadata": {},
   "outputs": [
    {
     "data": {
      "text/plain": [
       "cats    123\n",
       "dogs     81\n",
       "Name: Paris, dtype: int64"
      ]
     },
     "execution_count": 5,
     "metadata": {},
     "output_type": "execute_result"
    }
   ],
   "source": [
    "\"\"\" if the data set were really large \n",
    "    it'd be nice to locate by key\n",
    "\"\"\"\n",
    "new_pets.loc['Paris']"
   ]
  },
  {
   "cell_type": "markdown",
   "metadata": {},
   "source": [
    "<hr /><h1>Building up class examples</h1>\n",
    "<p>Spring 2021; March 5, 2021</p>\n",
    "<p>In these examples, we want to build up from basics to increasingly complex uses of pandas for coding practices.</p>\n",
    "<hr />"
   ]
  },
  {
   "cell_type": "code",
   "execution_count": 6,
   "metadata": {},
   "outputs": [
    {
     "name": "stdout",
     "output_type": "stream",
     "text": [
      "select data < 10:  0     1\n",
      "1     2\n",
      "2     3\n",
      "3     4\n",
      "4     6\n",
      "5     0\n",
      "8     7\n",
      "11    4\n",
      "14    6\n",
      "dtype: int64\n",
      "range of data < 10 > 5:  0     1\n",
      "1     2\n",
      "2     3\n",
      "3     4\n",
      "5     0\n",
      "11    4\n",
      "dtype: int64\n",
      "__________________________________________________ \n",
      "\n",
      "same results but 'chained':  4     6\n",
      "8     7\n",
      "14    6\n",
      "dtype: int64\n",
      "same results without using &:  4     6\n",
      "8     7\n",
      "14    6\n",
      "dtype: int64\n"
     ]
    }
   ],
   "source": [
    "import pandas as pd\n",
    "\n",
    "data = pd.Series([1,2,3,4,6,0,85,45,7,53,321,4,32,2355,6])\n",
    "\n",
    "# select values from data; those < 10\n",
    "print(\"select data < 10: \", data[data < 10])\n",
    "print(\"range of data < 10 > 5: \", data[(data < 10) & (data < 5)])\n",
    "print(\"_\"*50,\"\\n\")\n",
    "# same result but “chained”\n",
    "print(\"same results but 'chained': \", data[(data < 10) & (data > 5)])\n",
    "print(\"same results without using &: \", data[data < 10][data > 5])"
   ]
  },
  {
   "cell_type": "markdown",
   "metadata": {},
   "source": [
    "<h2>Slicing and Manipulating</h2>\n",
    "<p>Here we'll make a copy first (for safekeeping) and explore using head and slicing and replacing, etc.</p>"
   ]
  },
  {
   "cell_type": "code",
   "execution_count": 7,
   "metadata": {},
   "outputs": [
    {
     "name": "stdout",
     "output_type": "stream",
     "text": [
      "d5:  0    1\n",
      "1    2\n",
      "2    3\n",
      "3    4\n",
      "4    6\n",
      "dtype: int64\n",
      "d6:  0        1\n",
      "1        2\n",
      "2        3\n",
      "3        4\n",
      "4        6\n",
      "5        0\n",
      "6       85\n",
      "7       45\n",
      "8        7\n",
      "9       53\n",
      "10     321\n",
      "11       4\n",
      "12      32\n",
      "13    2355\n",
      "14       6\n",
      "dtype: int64\n",
      "0     1\n",
      "2     3\n",
      "4     6\n",
      "6    85\n",
      "8     7\n",
      "dtype: int64\n"
     ]
    }
   ],
   "source": [
    "d5 = data.head().copy()\n",
    "print(\"d5: \", d5)\n",
    "d6 = data.head(70).copy() # specify the size of the head\n",
    "print(\"d6: \", d6)\n",
    "\n",
    "print(data[0:10:2]) # slide the data\n",
    "\n",
    "data[0] = 10000 # value replacement"
   ]
  },
  {
   "cell_type": "markdown",
   "metadata": {},
   "source": [
    "<hr /><h2>\n",
    "    <b>any</b> and <b>all</b> condition testing</h2>"
   ]
  },
  {
   "cell_type": "code",
   "execution_count": 8,
   "metadata": {},
   "outputs": [
    {
     "name": "stdout",
     "output_type": "stream",
     "text": [
      "any:  True\n",
      "all:  False\n",
      "alternative:  False\n",
      "all, diff syntax <bound method Series.all of 0      True\n",
      "1      True\n",
      "2      True\n",
      "3      True\n",
      "4      True\n",
      "5     False\n",
      "6      True\n",
      "7      True\n",
      "8      True\n",
      "9      True\n",
      "10     True\n",
      "11     True\n",
      "12     True\n",
      "13     True\n",
      "14     True\n",
      "dtype: bool>\n"
     ]
    }
   ],
   "source": [
    "print(\"any: \",data[data < 10].any()) # should return true\n",
    "print(\"all: \",data[data < 10].all()) # false\n",
    "print(\"alternative: \",(data > 10000).any()) # alternative\n",
    "print(\"all, diff syntax\", (data > 0).all) # false"
   ]
  },
  {
   "cell_type": "markdown",
   "metadata": {},
   "source": [
    "<hr />\n",
    "<h2>Get to know your data for basic stats</h2>"
   ]
  },
  {
   "cell_type": "code",
   "execution_count": 9,
   "metadata": {},
   "outputs": [
    {
     "name": "stdout",
     "output_type": "stream",
     "text": [
      "Length of the data set: 15\n",
      "mean:  861.5333333333333\n",
      "mode:  0    4\n",
      "1    6\n",
      "dtype: int64\n",
      "median:  7.0\n",
      "count:  15\n",
      "std:  2598.470975309097\n",
      "unique:  [10000     2     3     4     6     0    85    45     7    53   321    32\n",
      "  2355]\n",
      "\n",
      "describe:  count       15.000000\n",
      "mean       861.533333\n",
      "std       2598.470975\n",
      "min          0.000000\n",
      "25%          4.000000\n",
      "50%          7.000000\n",
      "75%         69.000000\n",
      "max      10000.000000\n",
      "dtype: float64\n",
      "\n",
      "\n",
      "value_counts and shape of the data.\n",
      "Note that shape is an attribute, not a method\n",
      "\tValue counts:  6        2\n",
      "4        2\n",
      "85       1\n",
      "53       1\n",
      "2355     1\n",
      "10000    1\n",
      "45       1\n",
      "7        1\n",
      "32       1\n",
      "3        1\n",
      "2        1\n",
      "321      1\n",
      "0        1\n",
      "dtype: int64\n",
      "\tShape:  (15,)\n"
     ]
    }
   ],
   "source": [
    "print(\"Length of the data set:\", len(data))\n",
    "\n",
    "# individual measurements - can use the describe() for the whole set\n",
    "print(\"mean: \", data.mean())\n",
    "print(\"mode: \", data.mode())\n",
    "print(\"median: \", data.median())\n",
    "print(\"count: \", data.count())\n",
    "print(\"std: \", data.std())\n",
    "print(\"unique: \", data.unique())\n",
    "\n",
    "print(\"\\ndescribe: \", data.describe())\n",
    "print(\"\\n\\nvalue_counts and shape of the data.\\nNote that shape is an attribute, not a method\")\n",
    "print(\"\\tValue counts: \",data.value_counts())\n",
    "print(\"\\tShape: \", data.shape)"
   ]
  },
  {
   "cell_type": "markdown",
   "metadata": {},
   "source": [
    "<hr /><h2>Adding, editing data</h2>\n"
   ]
  },
  {
   "cell_type": "code",
   "execution_count": 10,
   "metadata": {},
   "outputs": [
    {
     "name": "stdout",
     "output_type": "stream",
     "text": [
      "by single index names:  321\n",
      "look up by index location, using dict stye[]\n",
      "0    10000\n",
      "3        4\n",
      "dtype: int64\n"
     ]
    }
   ],
   "source": [
    "print(\"by single index names: \", data[10])  # by single index names\n",
    "\n",
    "\n",
    "print(\"look up by index location, using dict stye[]\")\n",
    "print(data.iloc[ [0,3] ])"
   ]
  },
  {
   "cell_type": "markdown",
   "metadata": {},
   "source": [
    "<h2>Filling data cells</h2>\n",
    "<p>It's often useful to fill cells with some placeholder data and interpolate missing values.  This is common in k-nearest neighbor and any situation to minimize \n",
    "    need to check for data-oriented problems when running your scripts.</p>"
   ]
  },
  {
   "cell_type": "code",
   "execution_count": 11,
   "metadata": {},
   "outputs": [
    {
     "name": "stdout",
     "output_type": "stream",
     "text": [
      "combo after reindex\n",
      "0    0\n",
      "1    0\n",
      "2    0\n",
      "3    0\n",
      "4    0\n",
      "dtype: int64\n"
     ]
    },
    {
     "data": {
      "text/plain": [
       "0    0\n",
       "1    0\n",
       "2    0\n",
       "3    0\n",
       "4    0\n",
       "dtype: int64"
      ]
     },
     "execution_count": 11,
     "metadata": {},
     "output_type": "execute_result"
    }
   ],
   "source": [
    "combo = pd.Series([0,0,0,0,0])\n",
    "new_combo = pd.Series([0,0,0,0,0])\n",
    "new_combination = pd.Series([0,0,0,0,0])\n",
    "\n",
    "# set the fill value.\n",
    "print(\"combo after reindex\")\n",
    "combo.reindex([0, 2, 15, 21], fill_value = 0)\n",
    "print(combo)\n",
    "\n",
    "# fill the NaNs\n",
    "new_combo.fillna(0)\n",
    "\n",
    "# forward and back fill to guess at missing values.\n",
    "new_combo.ffill()\n",
    "\n",
    "new_combo.bfill()\n",
    "\n",
    "new_combination.interpolate() # one of many techniques."
   ]
  },
  {
   "cell_type": "markdown",
   "metadata": {},
   "source": [
    "<hr />\n",
    "<h2 style=\"color:red;\">Integrating data - input/output to csv, sql, json</h2><p>Typical to read in data - sometimes with the metadata (such as an SQL table header) or not - change to .json and import to a dictionary.</p>\n",
    "<p>Examples:<br />\n",
    "    <code>myframe = pd.read_csv('mydata.csv', index_col = 0)</code><br />\n",
    "    <code>myframe = pd.read_json('mydata.json')</code>.  May need the <u>orient</u> keyword.\n",
    "    <br />\n",
    "If you're reading from sql, you need to <span style=\"font-family:Courier;color:maroon;\">import sqlite3</span>.  Then you can establish \n",
    "    a connection to the databae and then select data from \n",
    "    your table(s), e.g., \n",
    "<code>my_connection = sqlite3.connect(\"mydatabase.db\")</code>\n",
    "</p>\n",
    "<p><b>Output/convert to different data types:</b>\n",
    "    <br/><span style=\"font-family:Courier;color:maroon;\">dataframe.to_csv('newfile.csv')</span><br />\n",
    "    <span style=\"font-family:Courier;color:maroon;\">dataframe.to_json('newfile.json')</span>\n",
    "    <br />\n",
    "    <span style=\"font-family:Courier;color:maroon;\">dataframe.to_sql('newfile', my_connection)</span></p>\n",
    "<hr />\n",
    "<h2 style=\"color:red;\">Get to know your data first</h2>\n",
    "<ol>\n",
    "    <li>What&rsquo;s the dimensions of our data? <code>my_dataframe.shape</code></li>\n",
    "    <li>Get some <u>info</u> about your data: <code>my_dataframe.info()</code></li>\n",
    "    <li>See the <u>first 5 rows</u> (the head) of your data: \n",
    "    <code>my_dataframe.head()</code></li>\n",
    "    <li><u>last</u> rows: <code>my_dataframe.tail()</code></li>\n",
    "    <li><u>remove duplicates</u> <code>drop_duplicates()</code></li>\n",
    "    <li><u>copy</u> the frame to a new one, or overwrite it <code>my_dataframe.drop_duplicates(inplace = True)</code> (We can keep the first of the duplicates (the default) or drop all duplicates:<code>temp_df = my_dataframe.append(my_dataframe)</code> tomake a copy; <code>temp_df.drop_duplicates(inplace=True, keep=False)</code> would overwrite the df and remove all duplicates (keep=False).</li>\n",
    "        </ol>\n",
    "<p>Movie data from <a href=\"https://gist.github.com/tiangechen/b68782efa49a16edaf07dc2cdaa855ea#file-movies-csv\" target=\"new\">here</a></p>\n",
    "<code>movies_df = pd.read_csv(\"movies.csv\", index_col=\"Film\")</code>"
   ]
  },
  {
   "cell_type": "code",
   "execution_count": 3,
   "metadata": {
    "scrolled": false
   },
   "outputs": [
    {
     "name": "stdout",
     "output_type": "stream",
     "text": [
      "<class 'pandas.core.frame.DataFrame'>\n",
      "Index: 77 entries, Zack and Miri Make a Porno to (500) Days of Summer\n",
      "Data columns (total 7 columns):\n",
      " #   Column             Non-Null Count  Dtype  \n",
      "---  ------             --------------  -----  \n",
      " 0   Genre              77 non-null     object \n",
      " 1   Lead Studio        77 non-null     object \n",
      " 2   Audience score %   77 non-null     int64  \n",
      " 3   Profitability      77 non-null     float64\n",
      " 4   Rotten Tomatoes %  77 non-null     int64  \n",
      " 5   Worldwide Gross    77 non-null     object \n",
      " 6   Year               77 non-null     int64  \n",
      "dtypes: float64(1), int64(3), object(3)\n",
      "memory usage: 4.8+ KB\n"
     ]
    }
   ],
   "source": [
    "movies_df = pd.read_csv(\"movies.csv\", index_col=\"Film\")\n",
    "movies_df.info()"
   ]
  },
  {
   "cell_type": "code",
   "execution_count": 4,
   "metadata": {},
   "outputs": [
    {
     "data": {
      "text/plain": [
       "(77, 7)"
      ]
     },
     "execution_count": 4,
     "metadata": {},
     "output_type": "execute_result"
    }
   ],
   "source": [
    "movies_df = pd.read_csv(\"movies.csv\", index_col=\"Film\")\n",
    "movies_df.shape"
   ]
  },
  {
   "cell_type": "code",
   "execution_count": 20,
   "metadata": {
    "scrolled": true
   },
   "outputs": [
    {
     "data": {
      "text/html": [
       "<div>\n",
       "<style scoped>\n",
       "    .dataframe tbody tr th:only-of-type {\n",
       "        vertical-align: middle;\n",
       "    }\n",
       "\n",
       "    .dataframe tbody tr th {\n",
       "        vertical-align: top;\n",
       "    }\n",
       "\n",
       "    .dataframe thead th {\n",
       "        text-align: right;\n",
       "    }\n",
       "</style>\n",
       "<table border=\"1\" class=\"dataframe\">\n",
       "  <thead>\n",
       "    <tr style=\"text-align: right;\">\n",
       "      <th></th>\n",
       "      <th>Genre</th>\n",
       "      <th>Lead Studio</th>\n",
       "      <th>Audience score %</th>\n",
       "      <th>Profitability</th>\n",
       "      <th>Rotten Tomatoes %</th>\n",
       "      <th>Worldwide Gross</th>\n",
       "      <th>Year</th>\n",
       "    </tr>\n",
       "    <tr>\n",
       "      <th>Film</th>\n",
       "      <th></th>\n",
       "      <th></th>\n",
       "      <th></th>\n",
       "      <th></th>\n",
       "      <th></th>\n",
       "      <th></th>\n",
       "      <th></th>\n",
       "    </tr>\n",
       "  </thead>\n",
       "  <tbody>\n",
       "    <tr>\n",
       "      <th>Across the Universe</th>\n",
       "      <td>romance</td>\n",
       "      <td>Independent</td>\n",
       "      <td>84</td>\n",
       "      <td>0.652603</td>\n",
       "      <td>54</td>\n",
       "      <td>$29.37</td>\n",
       "      <td>2007</td>\n",
       "    </tr>\n",
       "    <tr>\n",
       "      <th>A Serious Man</th>\n",
       "      <td>Drama</td>\n",
       "      <td>Universal</td>\n",
       "      <td>64</td>\n",
       "      <td>4.382857</td>\n",
       "      <td>89</td>\n",
       "      <td>$30.68</td>\n",
       "      <td>2009</td>\n",
       "    </tr>\n",
       "    <tr>\n",
       "      <th>A Dangerous Method</th>\n",
       "      <td>Drama</td>\n",
       "      <td>Independent</td>\n",
       "      <td>89</td>\n",
       "      <td>0.448645</td>\n",
       "      <td>79</td>\n",
       "      <td>$8.97</td>\n",
       "      <td>2011</td>\n",
       "    </tr>\n",
       "    <tr>\n",
       "      <th>27 Dresses</th>\n",
       "      <td>Comedy</td>\n",
       "      <td>Fox</td>\n",
       "      <td>71</td>\n",
       "      <td>5.343622</td>\n",
       "      <td>40</td>\n",
       "      <td>$160.31</td>\n",
       "      <td>2008</td>\n",
       "    </tr>\n",
       "    <tr>\n",
       "      <th>(500) Days of Summer</th>\n",
       "      <td>comedy</td>\n",
       "      <td>Fox</td>\n",
       "      <td>81</td>\n",
       "      <td>8.096000</td>\n",
       "      <td>87</td>\n",
       "      <td>$60.72</td>\n",
       "      <td>2009</td>\n",
       "    </tr>\n",
       "  </tbody>\n",
       "</table>\n",
       "</div>"
      ],
      "text/plain": [
       "                        Genre  Lead Studio  Audience score %  Profitability  \\\n",
       "Film                                                                          \n",
       "Across the Universe   romance  Independent                84       0.652603   \n",
       "A Serious Man           Drama    Universal                64       4.382857   \n",
       "A Dangerous Method      Drama  Independent                89       0.448645   \n",
       "27 Dresses             Comedy          Fox                71       5.343622   \n",
       "(500) Days of Summer   comedy          Fox                81       8.096000   \n",
       "\n",
       "                      Rotten Tomatoes % Worldwide Gross  Year  \n",
       "Film                                                           \n",
       "Across the Universe                  54         $29.37   2007  \n",
       "A Serious Man                        89         $30.68   2009  \n",
       "A Dangerous Method                   79          $8.97   2011  \n",
       "27 Dresses                           40        $160.31   2008  \n",
       "(500) Days of Summer                 87         $60.72   2009  "
      ]
     },
     "execution_count": 20,
     "metadata": {},
     "output_type": "execute_result"
    }
   ],
   "source": [
    "movies_df.head()"
   ]
  },
  {
   "cell_type": "code",
   "execution_count": 8,
   "metadata": {},
   "outputs": [
    {
     "data": {
      "text/html": [
       "<div>\n",
       "<style scoped>\n",
       "    .dataframe tbody tr th:only-of-type {\n",
       "        vertical-align: middle;\n",
       "    }\n",
       "\n",
       "    .dataframe tbody tr th {\n",
       "        vertical-align: top;\n",
       "    }\n",
       "\n",
       "    .dataframe thead th {\n",
       "        text-align: right;\n",
       "    }\n",
       "</style>\n",
       "<table border=\"1\" class=\"dataframe\">\n",
       "  <thead>\n",
       "    <tr style=\"text-align: right;\">\n",
       "      <th></th>\n",
       "      <th>Genre</th>\n",
       "      <th>Lead Studio</th>\n",
       "      <th>Audience score %</th>\n",
       "      <th>Profitability</th>\n",
       "      <th>Rotten Tomatoes %</th>\n",
       "      <th>Worldwide Gross</th>\n",
       "      <th>Year</th>\n",
       "    </tr>\n",
       "    <tr>\n",
       "      <th>Film</th>\n",
       "      <th></th>\n",
       "      <th></th>\n",
       "      <th></th>\n",
       "      <th></th>\n",
       "      <th></th>\n",
       "      <th></th>\n",
       "      <th></th>\n",
       "    </tr>\n",
       "  </thead>\n",
       "  <tbody>\n",
       "    <tr>\n",
       "      <th>Across the Universe</th>\n",
       "      <td>romance</td>\n",
       "      <td>Independent</td>\n",
       "      <td>84</td>\n",
       "      <td>0.652603</td>\n",
       "      <td>54</td>\n",
       "      <td>$29.37</td>\n",
       "      <td>2007</td>\n",
       "    </tr>\n",
       "    <tr>\n",
       "      <th>A Serious Man</th>\n",
       "      <td>Drama</td>\n",
       "      <td>Universal</td>\n",
       "      <td>64</td>\n",
       "      <td>4.382857</td>\n",
       "      <td>89</td>\n",
       "      <td>$30.68</td>\n",
       "      <td>2009</td>\n",
       "    </tr>\n",
       "    <tr>\n",
       "      <th>A Dangerous Method</th>\n",
       "      <td>Drama</td>\n",
       "      <td>Independent</td>\n",
       "      <td>89</td>\n",
       "      <td>0.448645</td>\n",
       "      <td>79</td>\n",
       "      <td>$8.97</td>\n",
       "      <td>2011</td>\n",
       "    </tr>\n",
       "    <tr>\n",
       "      <th>27 Dresses</th>\n",
       "      <td>Comedy</td>\n",
       "      <td>Fox</td>\n",
       "      <td>71</td>\n",
       "      <td>5.343622</td>\n",
       "      <td>40</td>\n",
       "      <td>$160.31</td>\n",
       "      <td>2008</td>\n",
       "    </tr>\n",
       "    <tr>\n",
       "      <th>(500) Days of Summer</th>\n",
       "      <td>comedy</td>\n",
       "      <td>Fox</td>\n",
       "      <td>81</td>\n",
       "      <td>8.096000</td>\n",
       "      <td>87</td>\n",
       "      <td>$60.72</td>\n",
       "      <td>2009</td>\n",
       "    </tr>\n",
       "  </tbody>\n",
       "</table>\n",
       "</div>"
      ],
      "text/plain": [
       "                        Genre  Lead Studio  Audience score %  Profitability  \\\n",
       "Film                                                                          \n",
       "Across the Universe   romance  Independent                84       0.652603   \n",
       "A Serious Man           Drama    Universal                64       4.382857   \n",
       "A Dangerous Method      Drama  Independent                89       0.448645   \n",
       "27 Dresses             Comedy          Fox                71       5.343622   \n",
       "(500) Days of Summer   comedy          Fox                81       8.096000   \n",
       "\n",
       "                      Rotten Tomatoes % Worldwide Gross  Year  \n",
       "Film                                                           \n",
       "Across the Universe                  54         $29.37   2007  \n",
       "A Serious Man                        89         $30.68   2009  \n",
       "A Dangerous Method                   79          $8.97   2011  \n",
       "27 Dresses                           40        $160.31   2008  \n",
       "(500) Days of Summer                 87         $60.72   2009  "
      ]
     },
     "execution_count": 8,
     "metadata": {},
     "output_type": "execute_result"
    }
   ],
   "source": [
    "movies_df.tail()"
   ]
  },
  {
   "cell_type": "markdown",
   "metadata": {},
   "source": [
    "<hr />\n",
    "<h1 style=\"color:red\">Discussion</h1><p>How might you <i>read in</i> your data and how <i>why</i> might you use Pandas and these commands?\n",
    "    <hr />"
   ]
  },
  {
   "cell_type": "markdown",
   "metadata": {},
   "source": [
    "<hr />\n",
    "<h2 style=\"color:red;\">Getting to you know your data - visually</h2>\n",
    "<p>Next class we look at data visualization.  This section is an optional \n",
    "teaser integrating the exploration and analysis possible with\n",
    " pandas with another language of science, graphics.</p>\n",
    " <p>After you've ingested and gotten to know your data, you'll want to explore it - checking the data distribution, domain and range, and test your data against some specific test or idea.</p>\n",
    " <hr />"
   ]
  },
  {
   "cell_type": "markdown",
   "metadata": {},
   "source": [
    "<b>Normal Distribution</b>"
   ]
  },
  {
   "cell_type": "code",
   "execution_count": 2,
   "metadata": {},
   "outputs": [
    {
     "data": {
      "image/png": "[encoded data removed]",
      "text/plain": [
       "<Figure size 432x288 with 1 Axes>"
      ]
     },
     "metadata": {
      "needs_background": "light"
     },
     "output_type": "display_data"
    }
   ],
   "source": [
    "import numpy\n",
    "import matplotlib.pyplot as plt\n",
    "\n",
    "x = numpy.random.normal(5.0, 1.0, 1000000)\n",
    "\n",
    "plt.hist(x, 100)\n",
    "plt.show()"
   ]
  },
  {
   "cell_type": "markdown",
   "metadata": {},
   "source": [
    "<b>Scatter Plot</b>\n",
    "<p>Two arrays with 1000 random numbers; first array has the mean set to 5.0 with std dev of 1.0; 2nd array has mean set to 10 with std dev 2.0</p>"
   ]
  },
  {
   "cell_type": "code",
   "execution_count": 3,
   "metadata": {},
   "outputs": [
    {
     "data": {
      "image/png": "[encoded data removed]",
      "text/plain": [
       "<Figure size 432x288 with 1 Axes>"
      ]
     },
     "metadata": {
      "needs_background": "light"
     },
     "output_type": "display_data"
    }
   ],
   "source": [
    "import numpy\n",
    "import matplotlib.pyplot as plt\n",
    "\n",
    "x = numpy.random.normal(5.0, 1.0, 1000)\n",
    "y = numpy.random.normal(10.0, 2.0, 1000)\n",
    "\n",
    "plt.scatter(x, y)\n",
    "plt.show()"
   ]
  },
  {
   "cell_type": "markdown",
   "metadata": {},
   "source": [
    "<b>Linear Regression</b>\n",
    "<p>Here the x-axis represents some value, say age, and y is the height in millimeters.</p>\n",
    "<p>2nd plot includes the correlation coefficient (<i>r</i>).</p>\n",
    "<a href=\"https://docs.scipy.org/doc/scipy/reference/tutorial/index.html\" target=\"new\">See the SciPy.org Tutorial</a>"
   ]
  },
  {
   "cell_type": "code",
   "execution_count": 4,
   "metadata": {},
   "outputs": [
    {
     "data": {
      "image/png": "[encoded data removed]",
      "text/plain": [
       "<Figure size 432x288 with 1 Axes>"
      ]
     },
     "metadata": {
      "needs_background": "light"
     },
     "output_type": "display_data"
    }
   ],
   "source": [
    "import matplotlib.pyplot as plt\n",
    "\n",
    "x = [5,7,8,7,2,17,2,9,4,11,12,9,6]\n",
    "y = [99,86,87,88,111,86,103,87,94,78,77,85,86]\n",
    "\n",
    "plt.scatter(x, y)\n",
    "plt.show()"
   ]
  },
  {
   "cell_type": "code",
   "execution_count": 7,
   "metadata": {},
   "outputs": [
    {
     "name": "stdout",
     "output_type": "stream",
     "text": [
      "-0.758591524376155\n"
     ]
    }
   ],
   "source": [
    "import matplotlib.pyplot as plt\n",
    "from scipy import stats\n",
    "\n",
    "x = [5,7,8,7,2,17,2,9,4,11,12,9,6]\n",
    "y = [99,86,87,88,111,86,103,87,94,78,77,85,86]\n",
    "\n",
    "slope, intercept, r, p, std_err = stats.linregress(x, y)\n",
    "\n",
    "print(r)"
   ]
  },
  {
   "cell_type": "code",
   "execution_count": 10,
   "metadata": {},
   "outputs": [
    {
     "data": {
      "image/png": "[encoded data removed]",
      "text/plain": [
       "<Figure size 432x288 with 1 Axes>"
      ]
     },
     "metadata": {
      "needs_background": "light"
     },
     "output_type": "display_data"
    }
   ],
   "source": [
    "import numpy\n",
    "import matplotlib.pyplot as plt\n",
    "\n",
    "x = [1,2,3,5,6,7,8,9,10,12,13,14,15,16,18,19,21,22]\n",
    "y = [100,90,80,60,60,55,60,65,70,70,75,76,78,79,90,99,99,100]\n",
    "\n",
    "mymodel = numpy.poly1d(numpy.polyfit(x, y, 3))\n",
    "\n",
    "myline = numpy.linspace(1, 22, 100)\n",
    "\n",
    "plt.scatter(x, y)\n",
    "plt.plot(myline, mymodel(myline))\n",
    "plt.show()"
   ]
  },
  {
   "cell_type": "markdown",
   "metadata": {},
   "source": [
    "<hr />\n",
    "<p><b>Pandas</b>: In this example, read data from a .csv file into a DataFrame to measure carbon dioxide.  The x var is independent; y is dependent.</p><p>The human_subjects.csv file represents a paired-sample groups of people who are overweight, exercised a \n",
    "    set number of hours, and to predict their blood oxygen saturation."
   ]
  },
  {
   "cell_type": "code",
   "execution_count": 14,
   "metadata": {},
   "outputs": [
    {
     "name": "stdout",
     "output_type": "stream",
     "text": [
      "[95.54921072]\n"
     ]
    }
   ],
   "source": [
    "import pandas\n",
    "from sklearn import linear_model\n",
    "\n",
    "df = pandas.read_csv(\"human_subjects.csv\")\n",
    "\n",
    "X = df[['hours', 'weight']]\n",
    "y = df['O2']\n",
    "\n",
    "regr = linear_model.LinearRegression()\n",
    "regr.fit(X, y)\n",
    "\n",
    "predictedO2 = regr.predict([[25, 190]])\n",
    "\n",
    "print(predictedO2)"
   ]
  },
  {
   "cell_type": "markdown",
   "metadata": {},
   "source": [
    "<"
   ]
  }
 ],
 "metadata": {
  "kernelspec": {
   "display_name": "Python 3",
   "language": "python",
   "name": "python3"
  },
  "language_info": {
   "codemirror_mode": {
    "name": "ipython",
    "version": 3
   },
   "file_extension": ".py",
   "mimetype": "text/x-python",
   "name": "python",
   "nbconvert_exporter": "python",
   "pygments_lexer": "ipython3",
   "version": "3.8.10"
  }
 },
 "nbformat": 4,
 "nbformat_minor": 4
}
